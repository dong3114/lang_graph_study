{
 "cells": [
  {
   "cell_type": "markdown",
   "id": "46699988",
   "metadata": {},
   "source": [
    "### 랭그래프 과제\n",
    "라이브러리 선언"
   ]
  },
  {
   "cell_type": "code",
   "execution_count": 42,
   "id": "d5e03e03",
   "metadata": {},
   "outputs": [
    {
     "data": {
      "text/plain": [
       "True"
      ]
     },
     "execution_count": 42,
     "metadata": {},
     "output_type": "execute_result"
    }
   ],
   "source": [
    "from langchain_core.documents import Document\n",
    "from langchain.tools import tool\n",
    "from langchain_openai import ChatOpenAI\n",
    "from dotenv import load_dotenv\n",
    "from datetime import datetime\n",
    "from langchain_core.prompts import ChatPromptTemplate\n",
    "from langchain_core.runnables import chain\n",
    "from pprint import pprint\n",
    "import os\n",
    "\n",
    "load_dotenv()"
   ]
  },
  {
   "cell_type": "code",
   "execution_count": 34,
   "id": "5c4262ea",
   "metadata": {},
   "outputs": [],
   "source": [
    "# 동물 데이터 베이스 (딕셔너리) 정의\n",
    "animal_facts = {\n",
    "    \"강아지\":\"강아지는 인간과 가장 친한 반려동물 중 하나입니다. 충성심이 강하고 활발 합니다.\",\n",
    "    \"고양이\":\"고양이는 독립적인 성격을 가진 반려동물로, 꺠끗하고 조용한 성격을 가졌습니다.\",\n",
    "    \"코끼리\":\"코끼리는 육상 동물 중 가장 큰 동물로, 매우 높은 지능과 사회성을 지닙니다.\",\n",
    "    \"기린\":\"기린은 목이 매우 길며, 주로 아프리카 사바나에서 서식합니다.\",\n",
    "}"
   ]
  },
  {
   "cell_type": "code",
   "execution_count": null,
   "id": "18838545",
   "metadata": {},
   "outputs": [
    {
     "name": "stdout",
     "output_type": "stream",
     "text": [
      "Requirement already satisfied: langchain-community in c:\\users\\scv31\\appdata\\local\\pypoetry\\cache\\virtualenvs\\langgraph-works-vz1_lveb-py3.11\\lib\\site-packages (0.3.1)\n",
      "Collecting duckduckgo-search\n",
      "  Downloading duckduckgo_search-8.1.1-py3-none-any.whl.metadata (16 kB)\n",
      "Requirement already satisfied: PyYAML>=5.3 in c:\\users\\scv31\\appdata\\local\\pypoetry\\cache\\virtualenvs\\langgraph-works-vz1_lveb-py3.11\\lib\\site-packages (from langchain-community) (6.0.2)\n",
      "Requirement already satisfied: SQLAlchemy<3,>=1.4 in c:\\users\\scv31\\appdata\\local\\pypoetry\\cache\\virtualenvs\\langgraph-works-vz1_lveb-py3.11\\lib\\site-packages (from langchain-community) (2.0.43)\n",
      "Requirement already satisfied: aiohttp<4.0.0,>=3.8.3 in c:\\users\\scv31\\appdata\\local\\pypoetry\\cache\\virtualenvs\\langgraph-works-vz1_lveb-py3.11\\lib\\site-packages (from langchain-community) (3.12.15)\n",
      "Requirement already satisfied: dataclasses-json<0.7,>=0.5.7 in c:\\users\\scv31\\appdata\\local\\pypoetry\\cache\\virtualenvs\\langgraph-works-vz1_lveb-py3.11\\lib\\site-packages (from langchain-community) (0.6.7)\n",
      "Requirement already satisfied: langchain<0.4.0,>=0.3.1 in c:\\users\\scv31\\appdata\\local\\pypoetry\\cache\\virtualenvs\\langgraph-works-vz1_lveb-py3.11\\lib\\site-packages (from langchain-community) (0.3.1)\n",
      "Requirement already satisfied: langchain-core<0.4.0,>=0.3.6 in c:\\users\\scv31\\appdata\\local\\pypoetry\\cache\\virtualenvs\\langgraph-works-vz1_lveb-py3.11\\lib\\site-packages (from langchain-community) (0.3.63)\n",
      "Requirement already satisfied: langsmith<0.2.0,>=0.1.125 in c:\\users\\scv31\\appdata\\local\\pypoetry\\cache\\virtualenvs\\langgraph-works-vz1_lveb-py3.11\\lib\\site-packages (from langchain-community) (0.1.147)\n",
      "Requirement already satisfied: numpy<2,>=1 in c:\\users\\scv31\\appdata\\local\\pypoetry\\cache\\virtualenvs\\langgraph-works-vz1_lveb-py3.11\\lib\\site-packages (from langchain-community) (1.26.4)\n",
      "Requirement already satisfied: pydantic-settings<3.0.0,>=2.4.0 in c:\\users\\scv31\\appdata\\local\\pypoetry\\cache\\virtualenvs\\langgraph-works-vz1_lveb-py3.11\\lib\\site-packages (from langchain-community) (2.10.1)\n",
      "Requirement already satisfied: requests<3,>=2 in c:\\users\\scv31\\appdata\\local\\pypoetry\\cache\\virtualenvs\\langgraph-works-vz1_lveb-py3.11\\lib\\site-packages (from langchain-community) (2.32.5)\n",
      "Requirement already satisfied: tenacity!=8.4.0,<9.0.0,>=8.1.0 in c:\\users\\scv31\\appdata\\local\\pypoetry\\cache\\virtualenvs\\langgraph-works-vz1_lveb-py3.11\\lib\\site-packages (from langchain-community) (8.5.0)\n",
      "Requirement already satisfied: aiohappyeyeballs>=2.5.0 in c:\\users\\scv31\\appdata\\local\\pypoetry\\cache\\virtualenvs\\langgraph-works-vz1_lveb-py3.11\\lib\\site-packages (from aiohttp<4.0.0,>=3.8.3->langchain-community) (2.6.1)\n",
      "Requirement already satisfied: aiosignal>=1.4.0 in c:\\users\\scv31\\appdata\\local\\pypoetry\\cache\\virtualenvs\\langgraph-works-vz1_lveb-py3.11\\lib\\site-packages (from aiohttp<4.0.0,>=3.8.3->langchain-community) (1.4.0)\n",
      "Requirement already satisfied: attrs>=17.3.0 in c:\\users\\scv31\\appdata\\local\\pypoetry\\cache\\virtualenvs\\langgraph-works-vz1_lveb-py3.11\\lib\\site-packages (from aiohttp<4.0.0,>=3.8.3->langchain-community) (25.3.0)\n",
      "Requirement already satisfied: frozenlist>=1.1.1 in c:\\users\\scv31\\appdata\\local\\pypoetry\\cache\\virtualenvs\\langgraph-works-vz1_lveb-py3.11\\lib\\site-packages (from aiohttp<4.0.0,>=3.8.3->langchain-community) (1.7.0)\n",
      "Requirement already satisfied: multidict<7.0,>=4.5 in c:\\users\\scv31\\appdata\\local\\pypoetry\\cache\\virtualenvs\\langgraph-works-vz1_lveb-py3.11\\lib\\site-packages (from aiohttp<4.0.0,>=3.8.3->langchain-community) (6.6.4)\n",
      "Requirement already satisfied: propcache>=0.2.0 in c:\\users\\scv31\\appdata\\local\\pypoetry\\cache\\virtualenvs\\langgraph-works-vz1_lveb-py3.11\\lib\\site-packages (from aiohttp<4.0.0,>=3.8.3->langchain-community) (0.3.2)\n",
      "Requirement already satisfied: yarl<2.0,>=1.17.0 in c:\\users\\scv31\\appdata\\local\\pypoetry\\cache\\virtualenvs\\langgraph-works-vz1_lveb-py3.11\\lib\\site-packages (from aiohttp<4.0.0,>=3.8.3->langchain-community) (1.20.1)\n",
      "Requirement already satisfied: marshmallow<4.0.0,>=3.18.0 in c:\\users\\scv31\\appdata\\local\\pypoetry\\cache\\virtualenvs\\langgraph-works-vz1_lveb-py3.11\\lib\\site-packages (from dataclasses-json<0.7,>=0.5.7->langchain-community) (3.26.1)\n",
      "Requirement already satisfied: typing-inspect<1,>=0.4.0 in c:\\users\\scv31\\appdata\\local\\pypoetry\\cache\\virtualenvs\\langgraph-works-vz1_lveb-py3.11\\lib\\site-packages (from dataclasses-json<0.7,>=0.5.7->langchain-community) (0.9.0)\n",
      "Requirement already satisfied: langchain-text-splitters<0.4.0,>=0.3.0 in c:\\users\\scv31\\appdata\\local\\pypoetry\\cache\\virtualenvs\\langgraph-works-vz1_lveb-py3.11\\lib\\site-packages (from langchain<0.4.0,>=0.3.1->langchain-community) (0.3.8)\n",
      "Requirement already satisfied: pydantic<3.0.0,>=2.7.4 in c:\\users\\scv31\\appdata\\local\\pypoetry\\cache\\virtualenvs\\langgraph-works-vz1_lveb-py3.11\\lib\\site-packages (from langchain<0.4.0,>=0.3.1->langchain-community) (2.11.7)\n",
      "Requirement already satisfied: jsonpatch<2.0,>=1.33 in c:\\users\\scv31\\appdata\\local\\pypoetry\\cache\\virtualenvs\\langgraph-works-vz1_lveb-py3.11\\lib\\site-packages (from langchain-core<0.4.0,>=0.3.6->langchain-community) (1.33)\n",
      "Requirement already satisfied: packaging<25,>=23.2 in c:\\users\\scv31\\appdata\\local\\pypoetry\\cache\\virtualenvs\\langgraph-works-vz1_lveb-py3.11\\lib\\site-packages (from langchain-core<0.4.0,>=0.3.6->langchain-community) (24.2)\n",
      "Requirement already satisfied: typing-extensions>=4.7 in c:\\users\\scv31\\appdata\\local\\pypoetry\\cache\\virtualenvs\\langgraph-works-vz1_lveb-py3.11\\lib\\site-packages (from langchain-core<0.4.0,>=0.3.6->langchain-community) (4.15.0)\n",
      "Requirement already satisfied: jsonpointer>=1.9 in c:\\users\\scv31\\appdata\\local\\pypoetry\\cache\\virtualenvs\\langgraph-works-vz1_lveb-py3.11\\lib\\site-packages (from jsonpatch<2.0,>=1.33->langchain-core<0.4.0,>=0.3.6->langchain-community) (3.0.0)\n",
      "Requirement already satisfied: httpx<1,>=0.23.0 in c:\\users\\scv31\\appdata\\local\\pypoetry\\cache\\virtualenvs\\langgraph-works-vz1_lveb-py3.11\\lib\\site-packages (from langsmith<0.2.0,>=0.1.125->langchain-community) (0.28.1)\n",
      "Requirement already satisfied: orjson<4.0.0,>=3.9.14 in c:\\users\\scv31\\appdata\\local\\pypoetry\\cache\\virtualenvs\\langgraph-works-vz1_lveb-py3.11\\lib\\site-packages (from langsmith<0.2.0,>=0.1.125->langchain-community) (3.11.3)\n",
      "Requirement already satisfied: requests-toolbelt<2.0.0,>=1.0.0 in c:\\users\\scv31\\appdata\\local\\pypoetry\\cache\\virtualenvs\\langgraph-works-vz1_lveb-py3.11\\lib\\site-packages (from langsmith<0.2.0,>=0.1.125->langchain-community) (1.0.0)\n",
      "Requirement already satisfied: anyio in c:\\users\\scv31\\appdata\\local\\pypoetry\\cache\\virtualenvs\\langgraph-works-vz1_lveb-py3.11\\lib\\site-packages (from httpx<1,>=0.23.0->langsmith<0.2.0,>=0.1.125->langchain-community) (4.10.0)\n",
      "Requirement already satisfied: certifi in c:\\users\\scv31\\appdata\\local\\pypoetry\\cache\\virtualenvs\\langgraph-works-vz1_lveb-py3.11\\lib\\site-packages (from httpx<1,>=0.23.0->langsmith<0.2.0,>=0.1.125->langchain-community) (2025.8.3)\n",
      "Requirement already satisfied: httpcore==1.* in c:\\users\\scv31\\appdata\\local\\pypoetry\\cache\\virtualenvs\\langgraph-works-vz1_lveb-py3.11\\lib\\site-packages (from httpx<1,>=0.23.0->langsmith<0.2.0,>=0.1.125->langchain-community) (1.0.9)\n",
      "Requirement already satisfied: idna in c:\\users\\scv31\\appdata\\local\\pypoetry\\cache\\virtualenvs\\langgraph-works-vz1_lveb-py3.11\\lib\\site-packages (from httpx<1,>=0.23.0->langsmith<0.2.0,>=0.1.125->langchain-community) (3.10)\n",
      "Requirement already satisfied: h11>=0.16 in c:\\users\\scv31\\appdata\\local\\pypoetry\\cache\\virtualenvs\\langgraph-works-vz1_lveb-py3.11\\lib\\site-packages (from httpcore==1.*->httpx<1,>=0.23.0->langsmith<0.2.0,>=0.1.125->langchain-community) (0.16.0)\n",
      "Requirement already satisfied: annotated-types>=0.6.0 in c:\\users\\scv31\\appdata\\local\\pypoetry\\cache\\virtualenvs\\langgraph-works-vz1_lveb-py3.11\\lib\\site-packages (from pydantic<3.0.0,>=2.7.4->langchain<0.4.0,>=0.3.1->langchain-community) (0.7.0)\n",
      "Requirement already satisfied: pydantic-core==2.33.2 in c:\\users\\scv31\\appdata\\local\\pypoetry\\cache\\virtualenvs\\langgraph-works-vz1_lveb-py3.11\\lib\\site-packages (from pydantic<3.0.0,>=2.7.4->langchain<0.4.0,>=0.3.1->langchain-community) (2.33.2)\n",
      "Requirement already satisfied: typing-inspection>=0.4.0 in c:\\users\\scv31\\appdata\\local\\pypoetry\\cache\\virtualenvs\\langgraph-works-vz1_lveb-py3.11\\lib\\site-packages (from pydantic<3.0.0,>=2.7.4->langchain<0.4.0,>=0.3.1->langchain-community) (0.4.1)\n",
      "Requirement already satisfied: python-dotenv>=0.21.0 in c:\\users\\scv31\\appdata\\local\\pypoetry\\cache\\virtualenvs\\langgraph-works-vz1_lveb-py3.11\\lib\\site-packages (from pydantic-settings<3.0.0,>=2.4.0->langchain-community) (1.0.1)\n",
      "Requirement already satisfied: charset_normalizer<4,>=2 in c:\\users\\scv31\\appdata\\local\\pypoetry\\cache\\virtualenvs\\langgraph-works-vz1_lveb-py3.11\\lib\\site-packages (from requests<3,>=2->langchain-community) (3.4.3)\n",
      "Requirement already satisfied: urllib3<3,>=1.21.1 in c:\\users\\scv31\\appdata\\local\\pypoetry\\cache\\virtualenvs\\langgraph-works-vz1_lveb-py3.11\\lib\\site-packages (from requests<3,>=2->langchain-community) (2.5.0)\n",
      "Requirement already satisfied: greenlet>=1 in c:\\users\\scv31\\appdata\\local\\pypoetry\\cache\\virtualenvs\\langgraph-works-vz1_lveb-py3.11\\lib\\site-packages (from SQLAlchemy<3,>=1.4->langchain-community) (3.2.4)\n",
      "Requirement already satisfied: mypy-extensions>=0.3.0 in c:\\users\\scv31\\appdata\\local\\pypoetry\\cache\\virtualenvs\\langgraph-works-vz1_lveb-py3.11\\lib\\site-packages (from typing-inspect<1,>=0.4.0->dataclasses-json<0.7,>=0.5.7->langchain-community) (1.1.0)\n",
      "Requirement already satisfied: click>=8.1.8 in c:\\users\\scv31\\appdata\\local\\pypoetry\\cache\\virtualenvs\\langgraph-works-vz1_lveb-py3.11\\lib\\site-packages (from duckduckgo-search) (8.2.1)\n",
      "Collecting primp>=0.15.0 (from duckduckgo-search)\n",
      "  Downloading primp-0.15.0-cp38-abi3-win_amd64.whl.metadata (13 kB)\n",
      "Collecting lxml>=5.3.0 (from duckduckgo-search)\n",
      "  Downloading lxml-6.0.1-cp311-cp311-win_amd64.whl.metadata (3.9 kB)\n",
      "Requirement already satisfied: colorama in c:\\users\\scv31\\appdata\\local\\pypoetry\\cache\\virtualenvs\\langgraph-works-vz1_lveb-py3.11\\lib\\site-packages (from click>=8.1.8->duckduckgo-search) (0.4.6)\n",
      "Requirement already satisfied: sniffio>=1.1 in c:\\users\\scv31\\appdata\\local\\pypoetry\\cache\\virtualenvs\\langgraph-works-vz1_lveb-py3.11\\lib\\site-packages (from anyio->httpx<1,>=0.23.0->langsmith<0.2.0,>=0.1.125->langchain-community) (1.3.1)\n",
      "Downloading duckduckgo_search-8.1.1-py3-none-any.whl (18 kB)\n",
      "Downloading lxml-6.0.1-cp311-cp311-win_amd64.whl (4.0 MB)\n",
      "   ---------------------------------------- 0.0/4.0 MB ? eta -:--:--\n",
      "   -------------------- ------------------- 2.1/4.0 MB 11.7 MB/s eta 0:00:01\n",
      "   ---------------------------------------- 4.0/4.0 MB 11.5 MB/s eta 0:00:00\n",
      "Downloading primp-0.15.0-cp38-abi3-win_amd64.whl (3.1 MB)\n",
      "   ---------------------------------------- 0.0/3.1 MB ? eta -:--:--\n",
      "   ----------------------------- ---------- 2.4/3.1 MB 12.2 MB/s eta 0:00:01\n",
      "   ---------------------------------------- 3.1/3.1 MB 10.9 MB/s eta 0:00:00\n",
      "Installing collected packages: primp, lxml, duckduckgo-search\n",
      "\n",
      "   ------------- -------------------------- 1/3 [lxml]\n",
      "   ------------- -------------------------- 1/3 [lxml]\n",
      "   ---------------------------------------- 3/3 [duckduckgo-search]\n",
      "\n",
      "Successfully installed duckduckgo-search-8.1.1 lxml-6.0.1 primp-0.15.0\n"
     ]
    },
    {
     "name": "stderr",
     "output_type": "stream",
     "text": [
      "\n",
      "[notice] A new release of pip is available: 25.1.1 -> 25.2\n",
      "[notice] To update, run: python.exe -m pip install --upgrade pip\n"
     ]
    }
   ],
   "source": [
    "%pip install langchain-community duckduckgo-search"
   ]
  },
  {
   "cell_type": "code",
   "execution_count": 35,
   "id": "08220bea",
   "metadata": {},
   "outputs": [],
   "source": [
    "today = datetime.today().strftime(\"%Y-%m-%d\")\n",
    "prompt = ChatPromptTemplate([\n",
    "    (\"system\", \n",
    "    \"너는 동물 정보를 알려주는 어시스턴트야. \"\n",
    "    \"모든 질문에 답변하기 전에 반드시 search_animal 또는 웹검색 도구를 사용해야 한다. \"\n",
    "    \"자신의 지식만으로 답변하지 말고, 도구의 결과를 참고해서만 답하라.\"\n",
    "    f\"항상 마지막엔 {today}를 반환해서 타임라인을 만들어야한다.\"),\n",
    "    (\"human\",\"{user_input}\"),\n",
    "    (\"placeholder\",\"{message}\")\n",
    "])"
   ]
  },
  {
   "cell_type": "code",
   "execution_count": null,
   "id": "86a38be7",
   "metadata": {},
   "outputs": [
    {
     "ename": "NameError",
     "evalue": "name 'search_results' is not defined",
     "output_type": "error",
     "traceback": [
      "\u001b[31m---------------------------------------------------------------------------\u001b[39m",
      "\u001b[31mNameError\u001b[39m                                 Traceback (most recent call last)",
      "\u001b[36mCell\u001b[39m\u001b[36m \u001b[39m\u001b[32mIn[45]\u001b[39m\u001b[32m, line 6\u001b[39m\n\u001b[32m      2\u001b[39m \u001b[38;5;28;01mfrom\u001b[39;00m\u001b[38;5;250m \u001b[39m\u001b[34;01mlangchain_community\u001b[39;00m\u001b[34;01m.\u001b[39;00m\u001b[34;01mtools\u001b[39;00m\u001b[38;5;250m \u001b[39m\u001b[38;5;28;01mimport\u001b[39;00m DuckDuckGoSearchResults\n\u001b[32m      4\u001b[39m web_search = DuckDuckGoSearchResults(max_results=\u001b[32m2\u001b[39m)\n\u001b[32m----> \u001b[39m\u001b[32m6\u001b[39m \u001b[38;5;28;01mfor\u001b[39;00m result \u001b[38;5;129;01min\u001b[39;00m \u001b[43msearch_results\u001b[49m:\n\u001b[32m      7\u001b[39m     \u001b[38;5;28mprint\u001b[39m(result)\n\u001b[32m      8\u001b[39m     \u001b[38;5;28mprint\u001b[39m(\u001b[33m'\u001b[39m\u001b[33m-\u001b[39m\u001b[33m'\u001b[39m*\u001b[32m50\u001b[39m)\n",
      "\u001b[31mNameError\u001b[39m: name 'search_results' is not defined"
     ]
    }
   ],
   "source": [
    "# 덕덕고로 웹서치\n",
    "from langchain_community.tools import DuckDuckGoSearchResults\n",
    "\n",
    "web_search = DuckDuckGoSearchResults(max_results=2)\n",
    "search_results = web_search.invoke()\n",
    "\n",
    "for result in search_results:\n",
    "    print(result)\n",
    "    print('-'*50)"
   ]
  },
  {
   "cell_type": "code",
   "execution_count": 37,
   "id": "ef0fbdd9",
   "metadata": {},
   "outputs": [],
   "source": [
    "# 동물 정보 반환 tool 셋팅\n",
    "@tool\n",
    "def search_animal(query: str) -> list[Document]:\n",
    "    \"\"\"\n",
    "    이름에 해당하는 동물 정보를 간단히 반환합니다.\n",
    "    \"\"\"\n",
    "    if query in animal_facts:\n",
    "        return [Document(page_content=animal_facts[query])]\n",
    "    return [Document(page_content=\"해당 동물의 정보를 찾을 수 없습니다.\")]"
   ]
  },
  {
   "cell_type": "code",
   "execution_count": 43,
   "id": "2641db11",
   "metadata": {},
   "outputs": [
    {
     "name": "stdout",
     "output_type": "stream",
     "text": [
      "AIMessage(content='', additional_kwargs={'tool_calls': [{'id': 'call_bPYdOti1dEPU8XAtMhxJQ6xc', 'function': {'arguments': '{\"query\":\"고양이\"}', 'name': 'search_animal'}, 'type': 'function'}], 'refusal': None}, response_metadata={'token_usage': {'completion_tokens': 17, 'prompt_tokens': 57, 'total_tokens': 74, 'completion_tokens_details': {'accepted_prediction_tokens': 0, 'audio_tokens': 0, 'reasoning_tokens': 0, 'rejected_prediction_tokens': 0}, 'prompt_tokens_details': {'audio_tokens': 0, 'cached_tokens': 0}}, 'model_name': 'gpt-4o-mini-2024-07-18', 'system_fingerprint': 'fp_560af6e559', 'finish_reason': 'tool_calls', 'logprobs': None}, id='run--44d3b760-2c3b-4867-9182-cc614f995646-0', tool_calls=[{'name': 'search_animal', 'args': {'query': '고양이'}, 'id': 'call_bPYdOti1dEPU8XAtMhxJQ6xc', 'type': 'tool_call'}], usage_metadata={'input_tokens': 57, 'output_tokens': 17, 'total_tokens': 74})\n",
      "'----------------------------------------------------------------------------------------------------'\n",
      "''\n",
      "'----------------------------------------------------------------------------------------------------'\n",
      "[{'args': {'query': '고양이'},\n",
      "  'id': 'call_bPYdOti1dEPU8XAtMhxJQ6xc',\n",
      "  'name': 'search_animal',\n",
      "  'type': 'tool_call'}]\n",
      "'----------------------------------------------------------------------------------------------------'\n"
     ]
    }
   ],
   "source": [
    "llm = ChatOpenAI(model=\"gpt-4o-mini\")\n",
    "llm_with_tools = llm.bind_tools(tools=[search_animal])\n",
    "llm_chain = prompt | llm_with_tools\n",
    "\n",
    "ai_msg = llm_with_tools.invoke('고양이에 대해 알려줘')\n",
    "\n",
    "pprint(ai_msg)\n",
    "pprint('-'*100)\n",
    "\n",
    "pprint(ai_msg.content)\n",
    "pprint('-'*100)\n",
    "\n",
    "pprint(ai_msg.tool_calls)           # llm이 tool을 호출할지 말지를 판단할 수 있음. \n",
    "pprint('-'*100)\n"
   ]
  },
  {
   "cell_type": "code",
   "execution_count": 44,
   "id": "199ad843",
   "metadata": {},
   "outputs": [],
   "source": [
    "@chain\n",
    "def web_search_chain(user_input: str):\n",
    "    input_ = {\"user_input\":user_input}\n",
    "    ai_msg = llm_chain.invoke(input_)\n",
    "    tool_msgs = web_search.batch(ai_msg.tool_calls)\n",
    "    print(f\"tool_msgs: \\n{tool_msgs}\")\n",
    "    print('-'*100)\n",
    "    return llm_chain.invoke({**input_, \"message\":[ai_msg, *tool_msgs]})"
   ]
  },
  {
   "cell_type": "code",
   "execution_count": 41,
   "id": "545b7ea6",
   "metadata": {},
   "outputs": [
    {
     "name": "stderr",
     "output_type": "stream",
     "text": [
      "c:\\Users\\scv31\\AppData\\Local\\pypoetry\\Cache\\virtualenvs\\langgraph-works-VZ1_LVEb-py3.11\\Lib\\site-packages\\langchain_community\\utilities\\duckduckgo_search.py:63: RuntimeWarning: This package (`duckduckgo_search`) has been renamed to `ddgs`! Use `pip install ddgs` instead.\n",
      "  with DDGS() as ddgs:\n",
      "c:\\Users\\scv31\\AppData\\Local\\pypoetry\\Cache\\virtualenvs\\langgraph-works-VZ1_LVEb-py3.11\\Lib\\site-packages\\langchain_community\\utilities\\duckduckgo_search.py:64: UserWarning: backend='api' is deprecated, using backend='auto'\n",
      "  ddgs_gen = ddgs.text(\n"
     ]
    },
    {
     "name": "stdout",
     "output_type": "stream",
     "text": [
      "tool_msgs: \n",
      "[ToolMessage(content='snippet: Aug 8, 2025 · 마지막으로, 저연령층 사이에서 컬트적인 인기를 끈 공포 게임 ‘파피 플레이타임’에도 고양이 캐릭터가 등장한다. 바로 챕터 3의 메인 빌런이자 최종 보스인 ‘캣냅 (CatNap)’이다. 이 …, title: ‘나옹’, ‘아이루’, ‘모르가나’... 고양이의 날이면 생각 ..., link: https://dpg.danawa.com/news/view?boardSeq=60&listSeq=5862768, snippet: Aug 1, 2025 · 프렌치 감성 뷰티 브랜드 폴앤조 보떼(PAUL & JOE)가 고양이를 모티프로 한 시즌 한정 립밤 ‘골든캣 립밤 리미티드 에디션’을 오는 8월 1일 SSG에서 단독 선런칭한다. 이번 리미티드 …, title: 폴앤조 보떼, 황금 고양이 감성 담은 ‘골든캣 립밤 리미티드 ..., link: https://dpg.danawa.com/news/view?boardSeq=61&listSeq=5859059, snippet: Apr 17, 2023 · 로봇청소기 후기를 읽다 보면 간혹 괴담처럼 전해지는 이야기가 있다. ‘강아지가 간밤에 거실에 변을 봤는데, 예약 청소를 걸어둔 로봇청소기가 변을 그대로 밀고 지나가면서 온 집안이 …, title: 로봇청소기는 반려동물 대변과 토사물을 어떻게 청소할까?, link: https://dpg.danawa.com/news/view?boardSeq=67&listSeq=5321152&past=Y, snippet: Aug 14, 2025 · 실시간 3D 콘텐츠 제작 및 성장 플랫폼 유니티가 ‘17회 유니티 어워즈(17th Unity Awards)’의 후보작 모집을 시작한다고 14일 밝혔다. 유니티 어워즈는 창의성과 예술적·기술적 가치, …, title: “고양이 오마카세 뒤 이을 게임은?” 유니티, ‘17회 유니티 ..., link: https://dpg.danawa.com/news/view?boardSeq=60&listSeq=5867106', name='duckduckgo_results_json', tool_call_id='call_JOe2WCMOXyyDaKVEqq1O7zEX')]\n",
      "----------------------------------------------------------------------------------------------------\n",
      "최종응답: \n",
      " 고양이에 대한 정보는 다음과 같습니다:\n",
      "\n",
      "고양이는 일반적으로 사람들과 함께 사는 반려동물로 인식되며, 그들만의 독특하고 매력적인 성격으로 많은 사랑을 받고 있습니다. 고양이는 다양한 종류가 있으며, 각 품종마다 특징이 다릅니다. 그들은 보통 독립적이고, 사냥 본능이 강하며, 호기심이 많은 동물입니다.\n",
      "\n",
      "고양이는 소리를 통해 의사소통을 하며, 몸짓과 행동으로도 감정을 표현합니다. 또한, 고양이는 매우 깨끗한 동물로, 스스로를 자주 그루밍하여 청결을 유지합니다.\n",
      "\n",
      "고양이에 대한 더 많은 정보는 [여기에서 확인하실 수 있습니다.](https://dpg.danawa.com/news/view?boardSeq=60&listSeq=5862768)\n",
      "\n",
      "2025-09-01\n"
     ]
    }
   ],
   "source": [
    "# 실행\n",
    "question = \"고양이에 대해 알려줘\"\n",
    "respose = web_search_chain.invoke(\"고양이에 대해 알려줘?\")\n",
    "print(f\"최종응답: \\n {respose.content}\")"
   ]
  },
  {
   "cell_type": "code",
   "execution_count": null,
   "id": "51791ccc",
   "metadata": {},
   "outputs": [],
   "source": []
  }
 ],
 "metadata": {
  "kernelspec": {
   "display_name": "langgraph-works-VZ1_LVEb-py3.11",
   "language": "python",
   "name": "python3"
  },
  "language_info": {
   "codemirror_mode": {
    "name": "ipython",
    "version": 3
   },
   "file_extension": ".py",
   "mimetype": "text/x-python",
   "name": "python",
   "nbconvert_exporter": "python",
   "pygments_lexer": "ipython3",
   "version": "3.11.9"
  }
 },
 "nbformat": 4,
 "nbformat_minor": 5
}
