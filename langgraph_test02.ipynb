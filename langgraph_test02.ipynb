{
 "cells": [
  {
   "cell_type": "markdown",
   "id": "f0ec703c",
   "metadata": {},
   "source": [
    "# 필수 라이브러리 선언"
   ]
  },
  {
   "cell_type": "code",
   "execution_count": 1,
   "id": "698f1868",
   "metadata": {},
   "outputs": [
    {
     "data": {
      "text/plain": [
       "True"
      ]
     },
     "execution_count": 1,
     "metadata": {},
     "output_type": "execute_result"
    }
   ],
   "source": [
    "from dotenv import load_dotenv\n",
    "from textwrap import dedent     # tap(들여쓰기)에 상관없이 쓸 수 있게.\n",
    "from pprint import pprint\n",
    "from langgraph.graph import StateGraph, START, END\n",
    "from IPython.display import Image, display\n",
    "from typing import TypedDict\n",
    "import os\n",
    "load_dotenv()"
   ]
  },
  {
   "cell_type": "markdown",
   "id": "804dba5a",
   "metadata": {},
   "source": [
    "# State 선언 및 타입 지정"
   ]
  },
  {
   "cell_type": "code",
   "execution_count": 2,
   "id": "02989d9b",
   "metadata": {},
   "outputs": [],
   "source": [
    "class EmotionState(TypedDict):\n",
    "    user_input: str         # 유저 입력값\n",
    "    sentiment: str          # 감정 분기 단어\n",
    "    final_response: str     # 최종 결과출력"
   ]
  },
  {
   "cell_type": "markdown",
   "id": "f8a05444",
   "metadata": {},
   "source": [
    "# 랭그래프 필요 라이브러리 선언"
   ]
  },
  {
   "cell_type": "code",
   "execution_count": 3,
   "id": "305693f7",
   "metadata": {},
   "outputs": [],
   "source": [
    "from langchain_core.prompts import ChatPromptTemplate\n",
    "from langchain_core.output_parsers import StrOutputParser\n",
    "from langchain_openai import ChatOpenAI\n",
    "\n",
    "llm = ChatOpenAI(model=\"gpt-4o-mini\")"
   ]
  },
  {
   "cell_type": "markdown",
   "id": "a21db810",
   "metadata": {},
   "source": [
    "# 유저 입력값 노드"
   ]
  },
  {
   "cell_type": "code",
   "execution_count": 4,
   "id": "71435efd",
   "metadata": {},
   "outputs": [],
   "source": [
    "def get_user_input(state: EmotionState) -> EmotionState:\n",
    "    user_input = input('오늘의 감정은 어떠신가요?')\n",
    "    return {\"user_input\":user_input}"
   ]
  },
  {
   "cell_type": "markdown",
   "id": "896a467e",
   "metadata": {},
   "source": [
    "# 분기 노드 추가"
   ]
  },
  {
   "cell_type": "code",
   "execution_count": 5,
   "id": "9683bb9a",
   "metadata": {},
   "outputs": [],
   "source": [
    "def analyze_sentiment(state: EmotionState) -> EmotionState:\n",
    "    sentiment_template = \"\"\"\n",
    "    사용자의 입력에 따라서 그사람의 감정의 상태를 판단하세요.\n",
    "    \n",
    "    사용자의 입력: {user_input}\n",
    "    \n",
    "    사용자의 입력이 긍정적이면 \"positive\"를 부정적이면 \"negative\"으로 답변하고, 중립적인 입력에 대해서는\"neutral\"로 답변하세요.\n",
    "    \n",
    "    답변:\n",
    "    \"\"\"\n",
    "    \n",
    "    sentiment_prompt = ChatPromptTemplate.from_template(sentiment_template)\n",
    "    sentiment_chain = sentiment_prompt | llm | StrOutputParser()\n",
    "    \n",
    "    result = sentiment_chain.invoke({\"user_input\":state['user_input']})\n",
    "    sentiment = result.strip().lower()\n",
    "    return {\"sentiment\":sentiment}"
   ]
  },
  {
   "cell_type": "markdown",
   "id": "d780feca",
   "metadata": {},
   "source": [
    "# 긍정 답변 (generate_congrats_response)"
   ]
  },
  {
   "cell_type": "code",
   "execution_count": 6,
   "id": "a8cdce20",
   "metadata": {},
   "outputs": [],
   "source": [
    "def generate_congrats_response(state: EmotionState) -> EmotionState:\n",
    "    response_template = \"\"\"\n",
    "    사용자 입력: {user_input}\n",
    "    사용자 감정 결과: {sentiment}\n",
    "    \n",
    "    위 정보를 바탕으로 사용자의 감정에 공감할 수 있을만한 답변을 생성하세요.\n",
    "    \n",
    "    답변:\n",
    "    \"\"\"\n",
    "    response_prompt = ChatPromptTemplate.from_template(response_template)\n",
    "    response_chain = response_prompt | llm | StrOutputParser()\n",
    "    \n",
    "    final_response = response_chain.invoke({\"user_input\":state['user_input'],\"sentiment\":state['sentiment']})\n",
    "    print(f\"\"\"\n",
    "\\n 현재 감정: {state['sentiment']}\n",
    "\\n 감정 분석 결과 답변: {final_response}          \n",
    "          \"\"\")\n",
    "    return {\"final_response\":final_response}\n",
    "    "
   ]
  },
  {
   "cell_type": "markdown",
   "id": "21add961",
   "metadata": {},
   "source": [
    "# 부정 답변 (generate_encouragement_response)"
   ]
  },
  {
   "cell_type": "code",
   "execution_count": 7,
   "id": "ee951813",
   "metadata": {},
   "outputs": [],
   "source": [
    "def generate_encouragement_response(state: EmotionState) -> EmotionState:\n",
    "    response_template = \"\"\"\n",
    "    사용자 입력: {user_input}\n",
    "    사용자 감정 결과: {sentiment}\n",
    "    \n",
    "    위 정보를 바탕으로 사용자의 감정에 공감할 수 있을만한 답변을 생성하세요.\n",
    "    \n",
    "    답변:\n",
    "    \"\"\"\n",
    "    response_prompt = ChatPromptTemplate.from_template(response_template)\n",
    "    response_chain = response_prompt | llm | StrOutputParser()\n",
    "    \n",
    "    final_response = response_chain.invoke({\"user_input\":state['user_input'],\"sentiment\":state['sentiment']})\n",
    "    print(f\"\"\"\n",
    "\\n 현재 감정: {state['sentiment']}\n",
    "\\n 감정 분석 결과 답변: {final_response}          \n",
    "          \"\"\")\n",
    "    return {\"final_response\":final_response}\n",
    "    "
   ]
  },
  {
   "cell_type": "markdown",
   "id": "553a2b40",
   "metadata": {},
   "source": [
    "# 중립 답변 (generate_neutral_response)"
   ]
  },
  {
   "cell_type": "code",
   "execution_count": null,
   "id": "8a0158b9",
   "metadata": {},
   "outputs": [],
   "source": [
    "def generate_neutral_response(state: EmotionState) -> EmotionState:\n",
    "    response_template = \"\"\"\n",
    "    사용자 입력: {user_input}\n",
    "    사용자 감정 결과: {sentiment}\n",
    "    \n",
    "    위 정보를 바탕으로 사용자의 감정에 공감할 수 있을만한 답변을 생성하세요.\n",
    "    \n",
    "    감정이 중립적이라면 그거에 대한 답변을 생성하세요.\n",
    "    \n",
    "    답변:\n",
    "    \"\"\"\n",
    "    response_prompt = ChatPromptTemplate.from_template(response_template)\n",
    "    response_chain = response_prompt | llm | StrOutputParser()\n",
    "    \n",
    "    final_response = response_chain.invoke({\"user_input\":state['user_input'],\"sentiment\":state['sentiment']})\n",
    "    print(f\"\"\"\n",
    "\\n 현재 감정: {state['sentiment']}\n",
    "\\n 감정 분석 결과 답변: {final_response}          \n",
    "          \"\"\")\n",
    "    return {\"final_response\":final_response}"
   ]
  },
  {
   "cell_type": "markdown",
   "id": "df3666de",
   "metadata": {},
   "source": [
    "# 분기구문 작성 (답변에 따른 분기 작성)"
   ]
  },
  {
   "cell_type": "code",
   "execution_count": 9,
   "id": "dc65a534",
   "metadata": {},
   "outputs": [],
   "source": [
    "from typing import Literal\n",
    "\n",
    "def check_by_sentiment(state: EmotionState) -> Literal[\"generate_congrats_response\", \"generate_encouragement_response\", \"generate_neutral_response\"]:\n",
    "    if state['sentiment'] == 'positive': return \"generate_congrats_response\"\n",
    "    elif state['sentiment'] == 'negative': return \"generate_encouragement_response\"\n",
    "    else: return \"generate_neutral_response\""
   ]
  },
  {
   "cell_type": "markdown",
   "id": "650943c8",
   "metadata": {},
   "source": [
    "# LangGraph 작성"
   ]
  },
  {
   "cell_type": "code",
   "execution_count": null,
   "id": "7d876485",
   "metadata": {},
   "outputs": [
    {
     "data": {
      "image/png": "[encoded data removed]",
      "text/plain": [
       "<IPython.core.display.Image object>"
      ]
     },
     "metadata": {},
     "output_type": "display_data"
    }
   ],
   "source": [
    "# 1. 빌더 생성\n",
    "builder = StateGraph(EmotionState)\n",
    "# 2. 노드 추가 (이 때는 순서 상관없음)\n",
    "builder.add_node(\"get_user_input\",get_user_input)\n",
    "builder.add_node(\"analyze_sentiment\", analyze_sentiment)\n",
    "builder.add_node(\"generate_congrats_response\", generate_congrats_response)\n",
    "builder.add_node(\"generate_encouragement_response\", generate_encouragement_response)\n",
    "builder.add_node(\"generate_neutral_response\",generate_neutral_response)\n",
    "# 3. 엣지로 순서도 작성 (순서가 중요함.)\n",
    "builder.add_edge(START, \"get_user_input\")\n",
    "builder.add_edge(\"get_user_input\", \"analyze_sentiment\")\n",
    "# 3-1. 분기문 추가할때 add_conditional_edges 사용함.\n",
    "builder.add_conditional_edges(\n",
    "    \"analyze_sentiment\",                                            # 감정 반환 함수 로드\n",
    "    check_by_sentiment,                                             # 감정에 따른 분기 리터럴 값 반환하는 함수 로드\n",
    "    {\n",
    "        \"generate_congrats_response\": \"generate_congrats_response\",              # 리터럴에 따른 분기 value 지정\n",
    "        \"generate_encouragement_response\": \"generate_encouragement_response\",    # 리터럴에 따른 분기 value 지정\n",
    "        \"generate_neutral_response\":\"generate_neutral_response\"                  # 리터럴에 따른 분기 value 지정\n",
    "    }\n",
    ")\n",
    "# 3-2. 분기 별 END 엣지 추가.\n",
    "builder.add_edge(\"generate_congrats_response\", END)\n",
    "builder.add_edge(\"generate_encouragement_response\", END)\n",
    "builder.add_edge(\"generate_neutral_response\", END)\n",
    "# 4. 그래프 추가\n",
    "graph = builder.compile()\n",
    "# 4-1. node 플로우 시각화\n",
    "display(Image(graph.get_graph().draw_mermaid_png()))"
   ]
  },
  {
   "cell_type": "markdown",
   "id": "d0c6725a",
   "metadata": {},
   "source": [
    "# 실행하기 (긍정)"
   ]
  },
  {
   "cell_type": "code",
   "execution_count": null,
   "id": "14c94d29",
   "metadata": {},
   "outputs": [
    {
     "name": "stdout",
     "output_type": "stream",
     "text": [
      "\n",
      "\n",
      " 현재 감정: positive\n",
      "\n",
      " 감정 분석 결과 답변: 와, 정말 축하해요! 승진은 정말 큰 성과죠. 그동안의 노력과 열정이 인정받은 것 같아 기쁘네요. 어떤 기분인지 정말 잘 알 것 같아요!          \n",
      "          \n",
      "종료 합니다.\n"
     ]
    }
   ],
   "source": [
    "while True:\n",
    "    init_state = {\"user_input\":''}\n",
    "    graph.invoke(init_state)\n",
    "    continue_chat = input('다른 질문이 있으신가요? (y/n)').lower()\n",
    "    if continue_chat != 'y':\n",
    "        print('종료 합니다.')\n",
    "        break"
   ]
  },
  {
   "cell_type": "markdown",
   "id": "5d9dd5f6",
   "metadata": {},
   "source": [
    "# 실행하기 (부정)"
   ]
  },
  {
   "cell_type": "code",
   "execution_count": null,
   "id": "eb6702a3",
   "metadata": {},
   "outputs": [
    {
     "name": "stdout",
     "output_type": "stream",
     "text": [
      "\n",
      "\n",
      " 현재 감정: negative\n",
      "\n",
      " 감정 분석 결과 답변: 슬픈 기분이 드는 날에 파마를 하셨군요. 때때로 변화가 필요할 때가 있죠. 새로운 스타일이 기분을 조금이나마 나아지게 해주길 바래요. 힘든 시간이 지나가길 응원할게요. 언제든지 이야기할 곳이 필요하면 여기 있어요!          \n",
      "          \n",
      "종료 합니다.\n"
     ]
    }
   ],
   "source": [
    "while True:\n",
    "    init_state = {\"user_input\":''}\n",
    "    graph.invoke(init_state)\n",
    "    continue_chat = input('다른 질문이 있으신가요? (y/n)').lower()\n",
    "    if continue_chat != 'y':\n",
    "        print('종료 합니다.')\n",
    "        break"
   ]
  },
  {
   "cell_type": "markdown",
   "id": "76ffc3e2",
   "metadata": {},
   "source": [
    "# 실행하기 (neutral)"
   ]
  },
  {
   "cell_type": "code",
   "execution_count": null,
   "id": "fc97742c",
   "metadata": {},
   "outputs": [
    {
     "name": "stdout",
     "output_type": "stream",
     "text": [
      "\n",
      "\n",
      " 현재 감정: neutral\n",
      "\n",
      " 감정 분석 결과 답변: 그런 기분이 드는 것도 자연스러운 일이에요. 때로는 특별한 이유 없이 그냥 평온한 상태가 될 때가 있죠. 이런 중립적인 감정도 자신을 돌아보는 좋은 기회가 될 수 있어요. 혹시 오늘 어떤 활동을 해보셨나요?          \n",
      "          \n",
      "종료 합니다.\n"
     ]
    }
   ],
   "source": [
    "while True:\n",
    "    init_state = {\"user_input\":''}\n",
    "    graph.invoke(init_state)\n",
    "    continue_chat = input('다른 질문이 있으신가요? (y/n)').lower()\n",
    "    if continue_chat != 'y':\n",
    "        print('종료 합니다.')\n",
    "        break"
   ]
  },
  {
   "cell_type": "code",
   "execution_count": null,
   "id": "88786257",
   "metadata": {},
   "outputs": [],
   "source": []
  }
 ],
 "metadata": {
  "kernelspec": {
   "display_name": "langgraph-works-VZ1_LVEb-py3.11",
   "language": "python",
   "name": "python3"
  },
  "language_info": {
   "codemirror_mode": {
    "name": "ipython",
    "version": 3
   },
   "file_extension": ".py",
   "mimetype": "text/x-python",
   "name": "python",
   "nbconvert_exporter": "python",
   "pygments_lexer": "ipython3",
   "version": "3.11.9"
  }
 },
 "nbformat": 4,
 "nbformat_minor": 5
}
