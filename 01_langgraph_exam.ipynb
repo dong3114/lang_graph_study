{
 "cells": [
  {
   "cell_type": "code",
   "execution_count": 1,
   "id": "6f4dc746",
   "metadata": {},
   "outputs": [
    {
     "data": {
      "text/plain": [
       "True"
      ]
     },
     "execution_count": 1,
     "metadata": {},
     "output_type": "execute_result"
    }
   ],
   "source": [
    "from dotenv import load_dotenv\n",
    "load_dotenv()"
   ]
  },
  {
   "cell_type": "code",
   "execution_count": 2,
   "id": "5248317c",
   "metadata": {},
   "outputs": [],
   "source": [
    "from textwrap import dedent     # tap(들여쓰기)에 상관없이 쓸 수 있게.\n",
    "from pprint import pprint"
   ]
  },
  {
   "cell_type": "code",
   "execution_count": 3,
   "id": "61c05a34",
   "metadata": {},
   "outputs": [
    {
     "name": "stdout",
     "output_type": "stream",
     "text": [
      "H\n",
      "--------------------------------------------------\n",
      "T\n",
      "--------------------------------------------------\n",
      "T\n",
      "--------------------------------------------------\n",
      "P\n",
      "--------------------------------------------------\n",
      "E\n",
      "--------------------------------------------------\n",
      "r\n",
      "--------------------------------------------------\n",
      "r\n",
      "--------------------------------------------------\n",
      "o\n",
      "--------------------------------------------------\n",
      "r\n",
      "--------------------------------------------------\n",
      "(\n",
      "--------------------------------------------------\n",
      "'\n",
      "--------------------------------------------------\n",
      "4\n",
      "--------------------------------------------------\n",
      "0\n",
      "--------------------------------------------------\n",
      "1\n",
      "--------------------------------------------------\n",
      " \n",
      "--------------------------------------------------\n",
      "C\n",
      "--------------------------------------------------\n",
      "l\n",
      "--------------------------------------------------\n",
      "i\n",
      "--------------------------------------------------\n",
      "e\n",
      "--------------------------------------------------\n",
      "n\n",
      "--------------------------------------------------\n",
      "t\n",
      "--------------------------------------------------\n",
      " \n",
      "--------------------------------------------------\n",
      "E\n",
      "--------------------------------------------------\n",
      "r\n",
      "--------------------------------------------------\n",
      "r\n",
      "--------------------------------------------------\n",
      "o\n",
      "--------------------------------------------------\n",
      "r\n",
      "--------------------------------------------------\n",
      ":\n",
      "--------------------------------------------------\n",
      " \n",
      "--------------------------------------------------\n",
      "U\n",
      "--------------------------------------------------\n",
      "n\n",
      "--------------------------------------------------\n",
      "a\n",
      "--------------------------------------------------\n",
      "u\n",
      "--------------------------------------------------\n",
      "t\n",
      "--------------------------------------------------\n",
      "h\n",
      "--------------------------------------------------\n",
      "o\n",
      "--------------------------------------------------\n",
      "r\n",
      "--------------------------------------------------\n",
      "i\n",
      "--------------------------------------------------\n",
      "z\n",
      "--------------------------------------------------\n",
      "e\n",
      "--------------------------------------------------\n",
      "d\n",
      "--------------------------------------------------\n",
      " \n",
      "--------------------------------------------------\n",
      "f\n",
      "--------------------------------------------------\n",
      "o\n",
      "--------------------------------------------------\n",
      "r\n",
      "--------------------------------------------------\n",
      " \n",
      "--------------------------------------------------\n",
      "u\n",
      "--------------------------------------------------\n",
      "r\n",
      "--------------------------------------------------\n",
      "l\n",
      "--------------------------------------------------\n",
      ":\n",
      "--------------------------------------------------\n",
      " \n",
      "--------------------------------------------------\n",
      "h\n",
      "--------------------------------------------------\n",
      "t\n",
      "--------------------------------------------------\n",
      "t\n",
      "--------------------------------------------------\n",
      "p\n",
      "--------------------------------------------------\n",
      "s\n",
      "--------------------------------------------------\n",
      ":\n",
      "--------------------------------------------------\n",
      "/\n",
      "--------------------------------------------------\n",
      "/\n",
      "--------------------------------------------------\n",
      "a\n",
      "--------------------------------------------------\n",
      "p\n",
      "--------------------------------------------------\n",
      "i\n",
      "--------------------------------------------------\n",
      ".\n",
      "--------------------------------------------------\n",
      "t\n",
      "--------------------------------------------------\n",
      "a\n",
      "--------------------------------------------------\n",
      "v\n",
      "--------------------------------------------------\n",
      "i\n",
      "--------------------------------------------------\n",
      "l\n",
      "--------------------------------------------------\n",
      "y\n",
      "--------------------------------------------------\n",
      ".\n",
      "--------------------------------------------------\n",
      "c\n",
      "--------------------------------------------------\n",
      "o\n",
      "--------------------------------------------------\n",
      "m\n",
      "--------------------------------------------------\n",
      "/\n",
      "--------------------------------------------------\n",
      "s\n",
      "--------------------------------------------------\n",
      "e\n",
      "--------------------------------------------------\n",
      "a\n",
      "--------------------------------------------------\n",
      "r\n",
      "--------------------------------------------------\n",
      "c\n",
      "--------------------------------------------------\n",
      "h\n",
      "--------------------------------------------------\n",
      "'\n",
      "--------------------------------------------------\n",
      ")\n",
      "--------------------------------------------------\n"
     ]
    }
   ],
   "source": [
    "from langchain_community.tools import TavilySearchResults\n",
    "\n",
    "query = \"스테이크와 어울리는 와인을 추천해 주세요\"\n",
    "\n",
    "web_search = TavilySearchResults(max_results=2)     # max_result의 갯수까지만 문서를 가져오겠다.\n",
    "\n",
    "search_results = web_search.invoke(query)           # TavilySearch도 검색 결과기 때문에 invoke() 사용\n",
    "\n",
    "for result in search_results:\n",
    "    print(result)\n",
    "    print('-'*50)"
   ]
  },
  {
   "cell_type": "code",
   "execution_count": 4,
   "id": "816bae2a",
   "metadata": {},
   "outputs": [
    {
     "name": "stdout",
     "output_type": "stream",
     "text": [
      "<class 'langchain_community.tools.tavily_search.tool.TavilySearchResults'>\n"
     ]
    }
   ],
   "source": [
    "print(type(web_search))             # 타입반환"
   ]
  },
  {
   "cell_type": "code",
   "execution_count": 5,
   "id": "bb5b758c",
   "metadata": {},
   "outputs": [
    {
     "name": "stdout",
     "output_type": "stream",
     "text": [
      "tavily_search_results_json\n"
     ]
    }
   ],
   "source": [
    "print(web_search.name)              # 풀네임"
   ]
  },
  {
   "cell_type": "code",
   "execution_count": 6,
   "id": "8b659600",
   "metadata": {},
   "outputs": [
    {
     "name": "stdout",
     "output_type": "stream",
     "text": [
      "A search engine optimized for comprehensive, accurate, and trusted results. Useful for when you need to answer questions about current events. Input should be a search query.\n"
     ]
    }
   ],
   "source": [
    "print(web_search.description)       # llm을 위해 설명하는 것"
   ]
  },
  {
   "cell_type": "code",
   "execution_count": 7,
   "id": "73615a91",
   "metadata": {},
   "outputs": [],
   "source": [
    "from langchain_openai import ChatOpenAI\n",
    "\n",
    "llm = ChatOpenAI(model='gpt-4o-mini')\n",
    "\n",
    "llm_with_tools = llm.bind_tools(tools=[web_search])"
   ]
  },
  {
   "cell_type": "code",
   "execution_count": 8,
   "id": "06816f54",
   "metadata": {},
   "outputs": [
    {
     "name": "stdout",
     "output_type": "stream",
     "text": [
      "AIMessage(content='안녕하세요! 어떻게 도와드릴까요?', additional_kwargs={'refusal': None}, response_metadata={'token_usage': {'completion_tokens': 11, 'prompt_tokens': 81, 'total_tokens': 92, 'completion_tokens_details': {'accepted_prediction_tokens': 0, 'audio_tokens': 0, 'reasoning_tokens': 0, 'rejected_prediction_tokens': 0}, 'prompt_tokens_details': {'audio_tokens': 0, 'cached_tokens': 0}}, 'model_name': 'gpt-4o-mini-2024-07-18', 'system_fingerprint': 'fp_560af6e559', 'finish_reason': 'stop', 'logprobs': None}, id='run--0632711a-781d-44de-a18f-a143d6dad537-0', usage_metadata={'input_tokens': 81, 'output_tokens': 11, 'total_tokens': 92})\n",
      "'----------------------------------------------------------------------------------------------------'\n",
      "'안녕하세요! 어떻게 도와드릴까요?'\n",
      "'----------------------------------------------------------------------------------------------------'\n",
      "[]\n",
      "'----------------------------------------------------------------------------------------------------'\n"
     ]
    }
   ],
   "source": [
    "# 간단한 쿼리문 입력\n",
    "query = \"안녕하세요\"\n",
    "ai_msg = llm_with_tools.invoke(query)\n",
    "pprint(ai_msg)\n",
    "pprint('-'*100)\n",
    "\n",
    "pprint(ai_msg.content)\n",
    "pprint('-'*100)\n",
    "\n",
    "pprint(ai_msg.tool_calls)           # llm이 tool을 호출할지 말지를 판단할 수 있음. \n",
    "pprint('-'*100)\n"
   ]
  },
  {
   "cell_type": "code",
   "execution_count": 9,
   "id": "479d001e",
   "metadata": {},
   "outputs": [
    {
     "name": "stdout",
     "output_type": "stream",
     "text": [
      "AIMessage(content='', additional_kwargs={'tool_calls': [{'id': 'call_E636r58T9qprO094EAJCNEZJ', 'function': {'arguments': '{\"query\":\"스테이크와 어울리는 와인 추천\"}', 'name': 'tavily_search_results_json'}, 'type': 'function'}], 'refusal': None}, response_metadata={'token_usage': {'completion_tokens': 27, 'prompt_tokens': 92, 'total_tokens': 119, 'completion_tokens_details': {'accepted_prediction_tokens': 0, 'audio_tokens': 0, 'reasoning_tokens': 0, 'rejected_prediction_tokens': 0}, 'prompt_tokens_details': {'audio_tokens': 0, 'cached_tokens': 0}}, 'model_name': 'gpt-4o-mini-2024-07-18', 'system_fingerprint': 'fp_560af6e559', 'finish_reason': 'tool_calls', 'logprobs': None}, id='run--7dc9796b-ac0e-4c90-afba-c87d1e011f00-0', tool_calls=[{'name': 'tavily_search_results_json', 'args': {'query': '스테이크와 어울리는 와인 추천'}, 'id': 'call_E636r58T9qprO094EAJCNEZJ', 'type': 'tool_call'}], usage_metadata={'input_tokens': 92, 'output_tokens': 27, 'total_tokens': 119})\n",
      "'----------------------------------------------------------------------------------------------------'\n",
      "''\n",
      "'----------------------------------------------------------------------------------------------------'\n",
      "[{'args': {'query': '스테이크와 어울리는 와인 추천'},\n",
      "  'id': 'call_E636r58T9qprO094EAJCNEZJ',\n",
      "  'name': 'tavily_search_results_json',\n",
      "  'type': 'tool_call'}]\n",
      "'----------------------------------------------------------------------------------------------------'\n"
     ]
    }
   ],
   "source": [
    "# 복잡한 쿼리를 입력\n",
    "query = \"스테이크와 어울리는 와인을 추천해 주세요.\"\n",
    "ai_msg = llm_with_tools.invoke(query)\n",
    "pprint(ai_msg)\n",
    "pprint('-'*100)\n",
    "\n",
    "pprint(ai_msg.content)              # 컨텐츠를 사용하지 않을 때는 tool을 사용한 경우임. 따라서 llm이 tool을 쓰는데 content를 반환하면 잘못 설계된것\n",
    "pprint('-'*100)\n",
    "# tool을 가진 llm에게는 어떤 tool을 호출할지 맡기는 것을 중요하게 봄. [내부에는 복수의 tool 호출 가능하다.]\n",
    "pprint(ai_msg.tool_calls)\n",
    "pprint('-'*100)"
   ]
  },
  {
   "cell_type": "code",
   "execution_count": 10,
   "id": "0493bfb9",
   "metadata": {},
   "outputs": [
    {
     "data": {
      "text/plain": [
       "{'name': 'tavily_search_results_json',\n",
       " 'args': {'query': '스테이크와 어울리는 와인 추천'},\n",
       " 'id': 'call_E636r58T9qprO094EAJCNEZJ',\n",
       " 'type': 'tool_call'}"
      ]
     },
     "execution_count": 10,
     "metadata": {},
     "output_type": "execute_result"
    }
   ],
   "source": [
    "tool_call = ai_msg.tool_calls[0]\n",
    "tool_call"
   ]
  },
  {
   "cell_type": "code",
   "execution_count": 11,
   "id": "8df957c9",
   "metadata": {},
   "outputs": [
    {
     "name": "stdout",
     "output_type": "stream",
     "text": [
      "content=\"HTTPError('401 Client Error: Unauthorized for url: https://api.tavily.com/search')\" name='tavily_search_results_json' tool_call_id='call_E636r58T9qprO094EAJCNEZJ' artifact={}\n"
     ]
    }
   ],
   "source": [
    "# tool call에 대해서 어떻게 생각 하는지 찍어 보기 위함.\n",
    "tool_message = web_search.invoke(tool_call)\n",
    "\n",
    "print(tool_message)"
   ]
  },
  {
   "cell_type": "code",
   "execution_count": 12,
   "id": "3ea23311",
   "metadata": {},
   "outputs": [
    {
     "name": "stdout",
     "output_type": "stream",
     "text": [
      "(\"HTTPError('401 Client Error: Unauthorized for url: \"\n",
      " \"https://api.tavily.com/search')\")\n"
     ]
    }
   ],
   "source": [
    "pprint(tool_message.content)"
   ]
  },
  {
   "cell_type": "code",
   "execution_count": 13,
   "id": "297fbe3c",
   "metadata": {},
   "outputs": [
    {
     "name": "stdout",
     "output_type": "stream",
     "text": [
      "tool_msgs: \n",
      " [ToolMessage(content=\"HTTPError('401 Client Error: Unauthorized for url: https://api.tavily.com/search')\", name='tavily_search_results_json', tool_call_id='call_FrJ1nDX02YRPaw3voirTBSC2', artifact={})]\n",
      "----------------------------------------------------------------------------------------------------\n",
      "''\n"
     ]
    }
   ],
   "source": [
    "from datetime import datetime\n",
    "from langchain_core.prompts import ChatPromptTemplate\n",
    "from langchain_core.runnables import chain\n",
    "\n",
    "today= datetime.today().strftime(\"%Y-%m-%d\")\n",
    "# prompt 생성\n",
    "prompt = ChatPromptTemplate([\n",
    "    (\"system\", f\"You are helpful AI assistant. Today's date is {today}.\"),\n",
    "    (\"human\", \"{user_input}\"),\n",
    "    (\"placeholder\",\"{message}\")             # tools의 호출에 대한 정보 로드\n",
    "])\n",
    "# llm과 tool 가져오기\n",
    "llm = ChatOpenAI(model='gpt-4o-mini')\n",
    "llm_with_tools = llm.bind_tools(tools=[web_search])\n",
    "# llm chain 생성\n",
    "llm_chain = prompt | llm_with_tools\n",
    "# 함수를 체인화\n",
    "@chain\n",
    "def web_search_chain(user_input: str):\n",
    "    input_ = {\"user_input\":user_input}\n",
    "    ai_msg = llm_chain.invoke(input_)\n",
    "    # ai의 메세지가 여러개 올 수 있기에 batch사용\n",
    "    tool_msgs = web_search.batch(ai_msg.tool_calls)\n",
    "    print(\"tool_msgs: \\n\", tool_msgs)\n",
    "    print('-'*100)\n",
    "    # 결과 반환\n",
    "    # **변수 -> dictionary로 풀어서 사용 되기 위해 (이후 인자가 dictionary 형태로 오기때문에 unpack 문법을 사용함. )\n",
    "    return llm_chain.invoke({**input_, \"message\":[ai_msg, *tool_msgs]})          # message는 placeholder의 (key, value)\n",
    "\n",
    "response = web_search_chain.invoke(\"오늘 모엣샹동 샴페인의 원화 가격은 얼마인가요?\")\n",
    "pprint(response.content)"
   ]
  },
  {
   "cell_type": "code",
   "execution_count": 14,
   "id": "2e3f6161",
   "metadata": {},
   "outputs": [],
   "source": [
    "# 사용자 커스텀 도구 정의하기\n",
    "from langchain_community.tools import TavilySearchResults\n",
    "from langchain_core.tools import tool\n",
    "from typing import List\n",
    "\n",
    "@tool       # 커스텀 tool 생성 어노테이션\n",
    "def search_web(query: str) -> str:\n",
    "    \"\"\"Searches the internet for information that does not exist in the database or \n",
    "    for the latest information.\"\"\"\n",
    "    \n",
    "    tavily_search = TavilySearchResults(max_results=2)\n",
    "    docs = tavily_search.invoke(query)\n",
    "    \n",
    "    formatted_docs = \"\\n---\\n\".join([\n",
    "            f'<Document href=\"{doc[\"url\"]}\"/>\\n{doc[\"content\"]}\\n</Document>'\n",
    "            for doc in docs\n",
    "            ])\n",
    "\n",
    "    if len(formatted_docs) > 0:\n",
    "        return formatted_docs\n",
    "\n",
    "    return \"관련 정보를 찾을 수 없습니다.\""
   ]
  },
  {
   "cell_type": "code",
   "execution_count": 15,
   "id": "94f0d813",
   "metadata": {},
   "outputs": [
    {
     "ename": "TypeError",
     "evalue": "string indices must be integers, not 'str'",
     "output_type": "error",
     "traceback": [
      "\u001b[31m---------------------------------------------------------------------------\u001b[39m",
      "\u001b[31mTypeError\u001b[39m                                 Traceback (most recent call last)",
      "\u001b[36mCell\u001b[39m\u001b[36m \u001b[39m\u001b[32mIn[15]\u001b[39m\u001b[32m, line 2\u001b[39m\n\u001b[32m      1\u001b[39m query = \u001b[33m\"\u001b[39m\u001b[33m스테이크와 어울리는 와인을 추천해 주세요.\u001b[39m\u001b[33m\"\u001b[39m\n\u001b[32m----> \u001b[39m\u001b[32m2\u001b[39m search_result = \u001b[43msearch_web\u001b[49m\u001b[43m.\u001b[49m\u001b[43minvoke\u001b[49m\u001b[43m(\u001b[49m\u001b[43mquery\u001b[49m\u001b[43m)\u001b[49m\n\u001b[32m      3\u001b[39m \u001b[38;5;28mprint\u001b[39m(search_result)\n",
      "\u001b[36mFile \u001b[39m\u001b[32mc:\\Users\\scv31\\AppData\\Local\\pypoetry\\Cache\\virtualenvs\\langgraph-works-VZ1_LVEb-py3.11\\Lib\\site-packages\\langchain_core\\tools\\base.py:513\u001b[39m, in \u001b[36mBaseTool.invoke\u001b[39m\u001b[34m(self, input, config, **kwargs)\u001b[39m\n\u001b[32m    505\u001b[39m \u001b[38;5;129m@override\u001b[39m\n\u001b[32m    506\u001b[39m \u001b[38;5;28;01mdef\u001b[39;00m\u001b[38;5;250m \u001b[39m\u001b[34minvoke\u001b[39m(\n\u001b[32m    507\u001b[39m     \u001b[38;5;28mself\u001b[39m,\n\u001b[32m   (...)\u001b[39m\u001b[32m    510\u001b[39m     **kwargs: Any,\n\u001b[32m    511\u001b[39m ) -> Any:\n\u001b[32m    512\u001b[39m     tool_input, kwargs = _prep_run_args(\u001b[38;5;28minput\u001b[39m, config, **kwargs)\n\u001b[32m--> \u001b[39m\u001b[32m513\u001b[39m     \u001b[38;5;28;01mreturn\u001b[39;00m \u001b[38;5;28;43mself\u001b[39;49m\u001b[43m.\u001b[49m\u001b[43mrun\u001b[49m\u001b[43m(\u001b[49m\u001b[43mtool_input\u001b[49m\u001b[43m,\u001b[49m\u001b[43m \u001b[49m\u001b[43m*\u001b[49m\u001b[43m*\u001b[49m\u001b[43mkwargs\u001b[49m\u001b[43m)\u001b[49m\n",
      "\u001b[36mFile \u001b[39m\u001b[32mc:\\Users\\scv31\\AppData\\Local\\pypoetry\\Cache\\virtualenvs\\langgraph-works-VZ1_LVEb-py3.11\\Lib\\site-packages\\langchain_core\\tools\\base.py:774\u001b[39m, in \u001b[36mBaseTool.run\u001b[39m\u001b[34m(self, tool_input, verbose, start_color, color, callbacks, tags, metadata, run_name, run_id, config, tool_call_id, **kwargs)\u001b[39m\n\u001b[32m    772\u001b[39m \u001b[38;5;28;01mif\u001b[39;00m error_to_raise:\n\u001b[32m    773\u001b[39m     run_manager.on_tool_error(error_to_raise)\n\u001b[32m--> \u001b[39m\u001b[32m774\u001b[39m     \u001b[38;5;28;01mraise\u001b[39;00m error_to_raise\n\u001b[32m    775\u001b[39m output = _format_output(content, artifact, tool_call_id, \u001b[38;5;28mself\u001b[39m.name, status)\n\u001b[32m    776\u001b[39m run_manager.on_tool_end(output, color=color, name=\u001b[38;5;28mself\u001b[39m.name, **kwargs)\n",
      "\u001b[36mFile \u001b[39m\u001b[32mc:\\Users\\scv31\\AppData\\Local\\pypoetry\\Cache\\virtualenvs\\langgraph-works-VZ1_LVEb-py3.11\\Lib\\site-packages\\langchain_core\\tools\\base.py:743\u001b[39m, in \u001b[36mBaseTool.run\u001b[39m\u001b[34m(self, tool_input, verbose, start_color, color, callbacks, tags, metadata, run_name, run_id, config, tool_call_id, **kwargs)\u001b[39m\n\u001b[32m    741\u001b[39m     \u001b[38;5;28;01mif\u001b[39;00m config_param := _get_runnable_config_param(\u001b[38;5;28mself\u001b[39m._run):\n\u001b[32m    742\u001b[39m         tool_kwargs = tool_kwargs | {config_param: config}\n\u001b[32m--> \u001b[39m\u001b[32m743\u001b[39m     response = \u001b[43mcontext\u001b[49m\u001b[43m.\u001b[49m\u001b[43mrun\u001b[49m\u001b[43m(\u001b[49m\u001b[38;5;28;43mself\u001b[39;49m\u001b[43m.\u001b[49m\u001b[43m_run\u001b[49m\u001b[43m,\u001b[49m\u001b[43m \u001b[49m\u001b[43m*\u001b[49m\u001b[43mtool_args\u001b[49m\u001b[43m,\u001b[49m\u001b[43m \u001b[49m\u001b[43m*\u001b[49m\u001b[43m*\u001b[49m\u001b[43mtool_kwargs\u001b[49m\u001b[43m)\u001b[49m\n\u001b[32m    744\u001b[39m \u001b[38;5;28;01mif\u001b[39;00m \u001b[38;5;28mself\u001b[39m.response_format == \u001b[33m\"\u001b[39m\u001b[33mcontent_and_artifact\u001b[39m\u001b[33m\"\u001b[39m:\n\u001b[32m    745\u001b[39m     \u001b[38;5;28;01mif\u001b[39;00m \u001b[38;5;129;01mnot\u001b[39;00m \u001b[38;5;28misinstance\u001b[39m(response, \u001b[38;5;28mtuple\u001b[39m) \u001b[38;5;129;01mor\u001b[39;00m \u001b[38;5;28mlen\u001b[39m(response) != \u001b[32m2\u001b[39m:\n",
      "\u001b[36mFile \u001b[39m\u001b[32mc:\\Users\\scv31\\AppData\\Local\\pypoetry\\Cache\\virtualenvs\\langgraph-works-VZ1_LVEb-py3.11\\Lib\\site-packages\\langchain_core\\tools\\structured.py:93\u001b[39m, in \u001b[36mStructuredTool._run\u001b[39m\u001b[34m(self, config, run_manager, *args, **kwargs)\u001b[39m\n\u001b[32m     91\u001b[39m     \u001b[38;5;28;01mif\u001b[39;00m config_param := _get_runnable_config_param(\u001b[38;5;28mself\u001b[39m.func):\n\u001b[32m     92\u001b[39m         kwargs[config_param] = config\n\u001b[32m---> \u001b[39m\u001b[32m93\u001b[39m     \u001b[38;5;28;01mreturn\u001b[39;00m \u001b[38;5;28;43mself\u001b[39;49m\u001b[43m.\u001b[49m\u001b[43mfunc\u001b[49m\u001b[43m(\u001b[49m\u001b[43m*\u001b[49m\u001b[43margs\u001b[49m\u001b[43m,\u001b[49m\u001b[43m \u001b[49m\u001b[43m*\u001b[49m\u001b[43m*\u001b[49m\u001b[43mkwargs\u001b[49m\u001b[43m)\u001b[49m\n\u001b[32m     94\u001b[39m msg = \u001b[33m\"\u001b[39m\u001b[33mStructuredTool does not support sync invocation.\u001b[39m\u001b[33m\"\u001b[39m\n\u001b[32m     95\u001b[39m \u001b[38;5;28;01mraise\u001b[39;00m \u001b[38;5;167;01mNotImplementedError\u001b[39;00m(msg)\n",
      "\u001b[36mCell\u001b[39m\u001b[36m \u001b[39m\u001b[32mIn[14]\u001b[39m\u001b[32m, line 14\u001b[39m, in \u001b[36msearch_web\u001b[39m\u001b[34m(query)\u001b[39m\n\u001b[32m     11\u001b[39m tavily_search = TavilySearchResults(max_results=\u001b[32m2\u001b[39m)\n\u001b[32m     12\u001b[39m docs = tavily_search.invoke(query)\n\u001b[32m---> \u001b[39m\u001b[32m14\u001b[39m formatted_docs = \u001b[33m\"\u001b[39m\u001b[38;5;130;01m\\n\u001b[39;00m\u001b[33m---\u001b[39m\u001b[38;5;130;01m\\n\u001b[39;00m\u001b[33m\"\u001b[39m.join(\u001b[43m[\u001b[49m\n\u001b[32m     15\u001b[39m \u001b[43m        \u001b[49m\u001b[33;43mf\u001b[39;49m\u001b[33;43m'\u001b[39;49m\u001b[33;43m<Document href=\u001b[39;49m\u001b[33;43m\"\u001b[39;49m\u001b[38;5;132;43;01m{\u001b[39;49;00m\u001b[43mdoc\u001b[49m\u001b[43m[\u001b[49m\u001b[33;43m\"\u001b[39;49m\u001b[33;43murl\u001b[39;49m\u001b[33;43m\"\u001b[39;49m\u001b[43m]\u001b[49m\u001b[38;5;132;43;01m}\u001b[39;49;00m\u001b[33;43m\"\u001b[39;49m\u001b[33;43m/>\u001b[39;49m\u001b[38;5;130;43;01m\\n\u001b[39;49;00m\u001b[38;5;132;43;01m{\u001b[39;49;00m\u001b[43mdoc\u001b[49m\u001b[43m[\u001b[49m\u001b[33;43m\"\u001b[39;49m\u001b[33;43mcontent\u001b[39;49m\u001b[33;43m\"\u001b[39;49m\u001b[43m]\u001b[49m\u001b[38;5;132;43;01m}\u001b[39;49;00m\u001b[38;5;130;43;01m\\n\u001b[39;49;00m\u001b[33;43m</Document>\u001b[39;49m\u001b[33;43m'\u001b[39;49m\n\u001b[32m     16\u001b[39m \u001b[43m        \u001b[49m\u001b[38;5;28;43;01mfor\u001b[39;49;00m\u001b[43m \u001b[49m\u001b[43mdoc\u001b[49m\u001b[43m \u001b[49m\u001b[38;5;129;43;01min\u001b[39;49;00m\u001b[43m \u001b[49m\u001b[43mdocs\u001b[49m\n\u001b[32m     17\u001b[39m \u001b[43m        \u001b[49m\u001b[43m]\u001b[49m)\n\u001b[32m     19\u001b[39m \u001b[38;5;28;01mif\u001b[39;00m \u001b[38;5;28mlen\u001b[39m(formatted_docs) > \u001b[32m0\u001b[39m:\n\u001b[32m     20\u001b[39m     \u001b[38;5;28;01mreturn\u001b[39;00m formatted_docs\n",
      "\u001b[36mCell\u001b[39m\u001b[36m \u001b[39m\u001b[32mIn[14]\u001b[39m\u001b[32m, line 15\u001b[39m, in \u001b[36m<listcomp>\u001b[39m\u001b[34m(.0)\u001b[39m\n\u001b[32m     11\u001b[39m tavily_search = TavilySearchResults(max_results=\u001b[32m2\u001b[39m)\n\u001b[32m     12\u001b[39m docs = tavily_search.invoke(query)\n\u001b[32m     14\u001b[39m formatted_docs = \u001b[33m\"\u001b[39m\u001b[38;5;130;01m\\n\u001b[39;00m\u001b[33m---\u001b[39m\u001b[38;5;130;01m\\n\u001b[39;00m\u001b[33m\"\u001b[39m.join([\n\u001b[32m---> \u001b[39m\u001b[32m15\u001b[39m         \u001b[33mf\u001b[39m\u001b[33m'\u001b[39m\u001b[33m<Document href=\u001b[39m\u001b[33m\"\u001b[39m\u001b[38;5;132;01m{\u001b[39;00m\u001b[43mdoc\u001b[49m\u001b[43m[\u001b[49m\u001b[33;43m\"\u001b[39;49m\u001b[33;43murl\u001b[39;49m\u001b[33;43m\"\u001b[39;49m\u001b[43m]\u001b[49m\u001b[38;5;132;01m}\u001b[39;00m\u001b[33m\"\u001b[39m\u001b[33m/>\u001b[39m\u001b[38;5;130;01m\\n\u001b[39;00m\u001b[38;5;132;01m{\u001b[39;00mdoc[\u001b[33m\"\u001b[39m\u001b[33mcontent\u001b[39m\u001b[33m\"\u001b[39m]\u001b[38;5;132;01m}\u001b[39;00m\u001b[38;5;130;01m\\n\u001b[39;00m\u001b[33m</Document>\u001b[39m\u001b[33m'\u001b[39m\n\u001b[32m     16\u001b[39m         \u001b[38;5;28;01mfor\u001b[39;00m doc \u001b[38;5;129;01min\u001b[39;00m docs\n\u001b[32m     17\u001b[39m         ])\n\u001b[32m     19\u001b[39m \u001b[38;5;28;01mif\u001b[39;00m \u001b[38;5;28mlen\u001b[39m(formatted_docs) > \u001b[32m0\u001b[39m:\n\u001b[32m     20\u001b[39m     \u001b[38;5;28;01mreturn\u001b[39;00m formatted_docs\n",
      "\u001b[31mTypeError\u001b[39m: string indices must be integers, not 'str'"
     ]
    }
   ],
   "source": [
    "query = \"스테이크와 어울리는 와인을 추천해 주세요.\"\n",
    "search_result = search_web.invoke(query)\n",
    "print(search_result)"
   ]
  },
  {
   "cell_type": "code",
   "execution_count": null,
   "id": "f5598a03",
   "metadata": {},
   "outputs": [],
   "source": [
    "llm_with_tools = llm.bind_tools(tools=[search_web])\n",
    "\n",
    "query = \"스테이크와 어울리는 와인을 추천해 주세요.\"\n",
    "ai_msg = llm_with_tools.invoke(query)\n",
    "\n",
    "pprint(ai_msg)\n",
    "pprint('-'*100)\n",
    "\n",
    "pprint(ai_msg.content)              # 결과가 도출 안 될 수 있음. 웹 검색을 한 정보가 도출 될 때는 빈 값으로 나오게 됨.\n",
    "pprint('-'*100)\n",
    "\n",
    "pprint(ai_msg.tool_calls)           # llm이 tool을 호출할지 말지를 판단할 수 있음. \n",
    "pprint('-'*100)"
   ]
  },
  {
   "cell_type": "code",
   "execution_count": 16,
   "id": "9ea18802",
   "metadata": {},
   "outputs": [
    {
     "name": "stdout",
     "output_type": "stream",
     "text": [
      "1\n"
     ]
    }
   ],
   "source": [
    "from langchain.document_loaders import TextLoader\n",
    "\n",
    "# 메뉴판 텍스트 데이터를 로드\n",
    "loader = TextLoader(\"./data/restaurant_menu.txt\", encoding=\"utf-8\")\n",
    "documents = loader.load()\n",
    "\n",
    "print(len(documents))"
   ]
  },
  {
   "cell_type": "code",
   "execution_count": null,
   "id": "b9b4ac99",
   "metadata": {},
   "outputs": [
    {
     "name": "stdout",
     "output_type": "stream",
     "text": [
      "총 10개의 메뉴 항목이 처리되었습니다.\n",
      "\n",
      "메뉴 번호: 1\n",
      "메뉴 이름: 시그니처 스테이크\n",
      "내용:\n",
      "1. 시그니처 스테이크\n",
      "   • 가격: ₩35,000\n",
      "   • 주요 식재료: 최상급 한우 등심, 로즈메리 감자, 그릴드 아스파라거스\n",
      "   • 설명: 셰프의 특제 시그니처 메뉴로, ...\n",
      "\n",
      "메뉴 번호: 2\n",
      "메뉴 이름: 트러플 리조또\n",
      "내용:\n",
      "2. 트러플 리조또\n",
      "   • 가격: ₩22,000\n",
      "   • 주요 식재료: 이탈리아산 아르보리오 쌀, 블랙 트러플, 파르미지아노 레지아노 치즈\n",
      "   • 설명: 크리미한 텍스처의 리조...\n"
     ]
    }
   ],
   "source": [
    "import re\n",
    "from langchain_core.documents import Document\n",
    "\n",
    "# 문서 분할 (Chunking)\n",
    "def split_menu_items(document):\n",
    "    \"\"\"\n",
    "    메뉴 항목을 분리하는 함수 \n",
    "    \"\"\"\n",
    "    # 정규표현식 정의 \n",
    "    pattern = r'(\\d+\\.\\s.*?)(?=\\n\\n\\d+\\.|$)'\n",
    "    menu_items = re.findall(pattern, document.page_content, re.DOTALL)\n",
    "    \n",
    "    # 각 메뉴 항목을 Document 객체로 변환\n",
    "    menu_documents = []\n",
    "    for i, item in enumerate(menu_items, 1):\n",
    "        # 메뉴 이름 추출\n",
    "        menu_name = item.split('\\n')[0].split('.', 1)[1].strip()\n",
    "        \n",
    "        # 새로운 Document 객체 생성\n",
    "        menu_doc = Document(\n",
    "            page_content=item.strip(),\n",
    "            metadata={\n",
    "                \"source\": document.metadata['source'],\n",
    "                \"menu_number\": i,\n",
    "                \"menu_name\": menu_name\n",
    "            }\n",
    "        )\n",
    "        menu_documents.append(menu_doc)\n",
    "    \n",
    "    return menu_documents\n",
    "\n",
    "# 메뉴 항목 분리 실행\n",
    "menu_documents = []\n",
    "for doc in documents:\n",
    "    menu_documents += split_menu_items(doc)\n",
    "\n",
    "# 결과 출력\n",
    "print(f\"총 {len(menu_documents)}개의 메뉴 항목이 처리되었습니다.\")\n",
    "for doc in menu_documents[:2]:\n",
    "    print(f\"\\n메뉴 번호: {doc.metadata['menu_number']}\")\n",
    "    print(f\"메뉴 이름: {doc.metadata['menu_name']}\")\n",
    "    print(f\"내용:\\n{doc.page_content[:100]}...\")"
   ]
  },
  {
   "cell_type": "code",
   "execution_count": 18,
   "id": "cc7a6ffb",
   "metadata": {},
   "outputs": [
    {
     "name": "stderr",
     "output_type": "stream",
     "text": [
      "Failed to send telemetry event ClientStartEvent: capture() takes 1 positional argument but 3 were given\n",
      "Failed to send telemetry event ClientCreateCollectionEvent: capture() takes 1 positional argument but 3 were given\n",
      "Failed to send telemetry event CollectionQueryEvent: capture() takes 1 positional argument but 3 were given\n"
     ]
    },
    {
     "name": "stdout",
     "output_type": "stream",
     "text": [
      "검색 결과: 2개\n",
      "메뉴 번호: 1\n",
      "메뉴 이름: 시그니처 스테이크\n",
      "\n",
      "메뉴 번호: 8\n",
      "메뉴 이름: 안심 스테이크 샐러드\n",
      "\n"
     ]
    }
   ],
   "source": [
    "# Chroma Vectorstore를 사용하기 위한 준비\n",
    "from langchain_chroma import Chroma\n",
    "from langchain_openai import OpenAIEmbeddings\n",
    "\n",
    "embeddings_model = OpenAIEmbeddings(\n",
    "    model=\"text-embedding-3-small\", \n",
    ")\n",
    "\n",
    "# Chroma 인덱스 생성\n",
    "menu_db = Chroma.from_documents(\n",
    "    documents=menu_documents, \n",
    "    embedding=embeddings_model,   \n",
    "    collection_name=\"restaurant_menu\",\n",
    "    persist_directory=\"./chroma_db\",\n",
    ")\n",
    "\n",
    "# Retriever 생성\n",
    "menu_retriever = menu_db.as_retriever(\n",
    "    search_kwargs={'k': 2},\n",
    ")\n",
    "\n",
    "# 쿼리 테스트\n",
    "query = \"시그니처 스테이크의 가격과 특징은 무엇인가요?\"\n",
    "docs = menu_retriever.invoke(query)\n",
    "print(f\"검색 결과: {len(docs)}개\")\n",
    "\n",
    "for doc in docs:\n",
    "    print(f\"메뉴 번호: {doc.metadata['menu_number']}\")\n",
    "    print(f\"메뉴 이름: {doc.metadata['menu_name']}\")\n",
    "    print()"
   ]
  },
  {
   "cell_type": "code",
   "execution_count": 19,
   "id": "f7d11c5c",
   "metadata": {},
   "outputs": [
    {
     "name": "stderr",
     "output_type": "stream",
     "text": [
      "Failed to send telemetry event ClientStartEvent: capture() takes 1 positional argument but 3 were given\n",
      "Failed to send telemetry event ClientCreateCollectionEvent: capture() takes 1 positional argument but 3 were given\n"
     ]
    },
    {
     "name": "stdout",
     "output_type": "stream",
     "text": [
      "총 10개의 메뉴 항목이 처리되었습니다.\n",
      "\n",
      "메뉴 번호: 1\n",
      "메뉴 이름: 샤토 마고 2015\n",
      "내용:\n",
      "1. 샤토 마고 2015\n",
      "   • 가격: ₩450,000\n",
      "   • 주요 품종: 카베르네 소비뇽, 메를로, 카베르네 프랑, 쁘띠 베르도\n",
      "   • 설명: 보르도 메독 지역의 프리미엄 ...\n",
      "\n",
      "메뉴 번호: 2\n",
      "메뉴 이름: 돔 페리뇽 2012\n",
      "내용:\n",
      "2. 돔 페리뇽 2012\n",
      "   • 가격: ₩380,000\n",
      "   • 주요 품종: 샤르도네, 피노 누아\n",
      "   • 설명: 프랑스 샴페인의 대명사로 알려진 프레스티지 큐베입니다. 시트러스...\n"
     ]
    },
    {
     "name": "stderr",
     "output_type": "stream",
     "text": [
      "Failed to send telemetry event CollectionQueryEvent: capture() takes 1 positional argument but 3 were given\n"
     ]
    },
    {
     "name": "stdout",
     "output_type": "stream",
     "text": [
      "검색 결과: 2개\n",
      "메뉴 번호: 10\n",
      "메뉴 이름: 그랜지 2016\n",
      "\n",
      "메뉴 번호: 9\n",
      "메뉴 이름: 샤토 디켐 2015\n",
      "\n"
     ]
    }
   ],
   "source": [
    "# 와인 메뉴 텍스트 데이터를 로드\n",
    "loader = TextLoader(\"./data/restaurant_wine.txt\", encoding=\"utf-8\")\n",
    "documents = loader.load()\n",
    "\n",
    "# 메뉴 항목 분리 실행\n",
    "menu_documents = []\n",
    "for doc in documents:\n",
    "    menu_documents += split_menu_items(doc)\n",
    "\n",
    "# 결과 출력\n",
    "print(f\"총 {len(menu_documents)}개의 메뉴 항목이 처리되었습니다.\")\n",
    "for doc in menu_documents[:2]:\n",
    "    print(f\"\\n메뉴 번호: {doc.metadata['menu_number']}\")\n",
    "    print(f\"메뉴 이름: {doc.metadata['menu_name']}\")\n",
    "    print(f\"내용:\\n{doc.page_content[:100]}...\")\n",
    "\n",
    "\n",
    "# Chroma 인덱스 생성\n",
    "wine_db = Chroma.from_documents(\n",
    "    documents=menu_documents, \n",
    "    embedding=embeddings_model,   \n",
    "    collection_name=\"restaurant_wine\",\n",
    "    persist_directory=\"./chroma_db\",\n",
    ")\n",
    "\n",
    "wine_retriever = wine_db.as_retriever(\n",
    "    search_kwargs={'k': 2},\n",
    ")\n",
    "\n",
    "query = \"스테이크와 어울리는 와인을 추천해주세요.\"\n",
    "docs = wine_retriever.invoke(query)\n",
    "print(f\"검색 결과: {len(docs)}개\")\n",
    "\n",
    "for doc in docs:\n",
    "    print(f\"메뉴 번호: {doc.metadata['menu_number']}\")\n",
    "    print(f\"메뉴 이름: {doc.metadata['menu_name']}\")\n",
    "    print()"
   ]
  },
  {
   "cell_type": "code",
   "execution_count": null,
   "id": "dbc92c3a",
   "metadata": {},
   "outputs": [
    {
     "name": "stderr",
     "output_type": "stream",
     "text": [
      "Failed to send telemetry event ClientStartEvent: capture() takes 1 positional argument but 3 were given\n",
      "Failed to send telemetry event ClientCreateCollectionEvent: capture() takes 1 positional argument but 3 were given\n"
     ]
    }
   ],
   "source": [
    "# 벡터 저장소 로드\n",
    "menu_db = Chroma(\n",
    "    embedding_function=embeddings_model,   \n",
    "    collection_name=\"restaurant_menu\",\n",
    "    persist_directory=\"./chroma_db\",\n",
    ")"
   ]
  },
  {
   "cell_type": "code",
   "execution_count": 21,
   "id": "9f34edae",
   "metadata": {},
   "outputs": [],
   "source": [
    "@tool\n",
    "def search_menu(query: str) -> List[Document]:\n",
    "    \"\"\"\n",
    "    Securely retrieve and access authorized restaurant menu information from the encrypted database.\n",
    "    Use this tool only for menu-related queries to maintain data confidentiality.\n",
    "    \"\"\"\n",
    "    docs = menu_db.similarity_search(query, k=2)\n",
    "    if len(docs) >0: return docs\n",
    "    return [Document(page_content=\"관련 메뉴 정보를 찾을 수 없습니다.\")]"
   ]
  },
  {
   "cell_type": "code",
   "execution_count": 22,
   "id": "144111c2",
   "metadata": {},
   "outputs": [
    {
     "name": "stderr",
     "output_type": "stream",
     "text": [
      "Failed to send telemetry event ClientStartEvent: capture() takes 1 positional argument but 3 were given\n",
      "Failed to send telemetry event ClientCreateCollectionEvent: capture() takes 1 positional argument but 3 were given\n"
     ]
    }
   ],
   "source": [
    "from langchain_core.tools import tool\n",
    "from typing import List\n",
    "from langchain_core.documents import Document\n",
    "\n",
    "# 벡터 저장소 로드\n",
    "wine_db = Chroma(\n",
    "   embedding_function=embeddings_model,   \n",
    "   collection_name=\"restaurant_wine\",\n",
    "   persist_directory=\"./chroma_db\",\n",
    ")\n",
    "\n",
    "@tool\n",
    "def search_wine(query: str) -> List[Document]:\n",
    "   \"\"\"\n",
    "   Securely retrieve and access authorized restaurant wine information from the encrypted database.\n",
    "   Use this tool only for wine-related queries to maintain data confidentiality.\n",
    "   \"\"\"\n",
    "   docs = wine_db.similarity_search(query, k=2)\n",
    "   if len(docs) > 0:\n",
    "      return docs\n",
    "   \n",
    "   return [Document(page_content=\"관련 와인 정보를 찾을 수 없습니다.\")]"
   ]
  },
  {
   "cell_type": "code",
   "execution_count": 23,
   "id": "b141e027",
   "metadata": {},
   "outputs": [
    {
     "name": "stdout",
     "output_type": "stream",
     "text": [
      "AIMessage(content='', additional_kwargs={'tool_calls': [{'id': 'call_YsxHftGE3iYPkycNBzBFgPIm', 'function': {'arguments': '{\"query\": \"시그니처 스테이크\"}', 'name': 'search_menu'}, 'type': 'function'}, {'id': 'call_Uwll2whqJnJx20z31ccY7kcl', 'function': {'arguments': '{\"query\": \"스테이크\"}', 'name': 'search_wine'}, 'type': 'function'}], 'refusal': None}, response_metadata={'token_usage': {'completion_tokens': 53, 'prompt_tokens': 137, 'total_tokens': 190, 'completion_tokens_details': {'accepted_prediction_tokens': 0, 'audio_tokens': 0, 'reasoning_tokens': 0, 'rejected_prediction_tokens': 0}, 'prompt_tokens_details': {'audio_tokens': 0, 'cached_tokens': 0}}, 'model_name': 'gpt-4o-mini-2024-07-18', 'system_fingerprint': 'fp_560af6e559', 'finish_reason': 'tool_calls', 'logprobs': None}, id='run--d87ba716-5b7c-421f-9147-97f6c48be3a2-0', tool_calls=[{'name': 'search_menu', 'args': {'query': '시그니처 스테이크'}, 'id': 'call_YsxHftGE3iYPkycNBzBFgPIm', 'type': 'tool_call'}, {'name': 'search_wine', 'args': {'query': '스테이크'}, 'id': 'call_Uwll2whqJnJx20z31ccY7kcl', 'type': 'tool_call'}], usage_metadata={'input_tokens': 137, 'output_tokens': 53, 'total_tokens': 190})\n",
      "'----------------------------------------------------------------------------------------------------'\n",
      "''\n",
      "'----------------------------------------------------------------------------------------------------'\n",
      "[{'args': {'query': '시그니처 스테이크'},\n",
      "  'id': 'call_YsxHftGE3iYPkycNBzBFgPIm',\n",
      "  'name': 'search_menu',\n",
      "  'type': 'tool_call'},\n",
      " {'args': {'query': '스테이크'},\n",
      "  'id': 'call_Uwll2whqJnJx20z31ccY7kcl',\n",
      "  'name': 'search_wine',\n",
      "  'type': 'tool_call'}]\n",
      "'----------------------------------------------------------------------------------------------------'\n"
     ]
    }
   ],
   "source": [
    "llm_with_tools = llm.bind_tools(tools=[search_menu, search_wine])\n",
    "query=\"시그니처 스테이크의 가격과 특징은 무엇인가요? 그리고 스테이크와 어울리는 와인 추천도 해주세요.\"\n",
    "ai_msg = llm_with_tools.invoke(query)\n",
    "\n",
    "pprint(ai_msg)\n",
    "pprint('-'*100)\n",
    "\n",
    "pprint(ai_msg.content)              # 결과가 도출 안 될 수 있음. 웹 검색을 한 정보가 도출 될 때는 빈 값으로 나오게 됨.\n",
    "pprint('-'*100)\n",
    "\n",
    "pprint(ai_msg.tool_calls)           # llm이 tool을 호출할지 말지를 판단할 수 있음. \n",
    "pprint('-'*100)"
   ]
  },
  {
   "cell_type": "code",
   "execution_count": 24,
   "id": "8eeef15a",
   "metadata": {},
   "outputs": [
    {
     "name": "stdout",
     "output_type": "stream",
     "text": [
      "search_web\n",
      "search_wine\n",
      "search_menu\n"
     ]
    }
   ],
   "source": [
    "tools = [search_web, search_wine, search_menu]\n",
    "for tool in tools:\n",
    "    print(tool.name)"
   ]
  },
  {
   "cell_type": "code",
   "execution_count": null,
   "id": "f8ba0b60",
   "metadata": {},
   "outputs": [
    {
     "name": "stdout",
     "output_type": "stream",
     "text": [
      "search_menu: \n",
      "{'name': 'search_menu', 'args': {'query': '시그니처 스테이크'}, 'id': 'call_Fwu7Bz2ElHXfdhEwUnG139Hr', 'type': 'tool_call'}\n",
      "----------------------------------------------------------------------------------------------------\n",
      "search_wine: \n",
      "{'name': 'search_wine', 'args': {'query': '스테이크와 어울리는 와인'}, 'id': 'call_wQlFDw9fU4Fki0mqDghQk5L7', 'type': 'tool_call'}\n",
      "----------------------------------------------------------------------------------------------------\n",
      "tool_msgs: \n",
      " [ToolMessage(content=\"[Document(metadata={'menu_name': '시그니처 스테이크', 'menu_number': 1, 'source': './data/restaurant_menu.txt'}, page_content='1. 시그니처 스테이크\\\\n   • 가격: ₩35,000\\\\n   • 주요 식재료: 최상급 한우 등심, 로즈메리 감자, 그릴드 아스파라거스\\\\n   • 설명: 셰프의 특제 시그니처 메뉴로, 21일간 건조 숙성한 최상급 한우 등심을 사용합니다. 미디엄 레어로 조리하여 육즙을 최대한 보존하며, 로즈메리 향의 감자와 아삭한 그릴드 아스파라거스가 곁들여집니다. 레드와인 소스와 함께 제공되어 풍부한 맛을 더합니다.'), Document(metadata={'menu_name': '안심 스테이크 샐러드', 'menu_number': 8, 'source': './data/restaurant_menu.txt'}, page_content='8. 안심 스테이크 샐러드\\\\n   • 가격: ₩26,000\\\\n   • 주요 식재료: 소고기 안심, 루꼴라, 체리 토마토, 발사믹 글레이즈\\\\n   • 설명: 부드러운 안심 스테이크를 얇게 슬라이스하여 신선한 루꼴라 위에 올린 메인 요리 샐러드입니다. 체리 토마토와 파마산 치즈 플레이크로 풍미를 더하고, 발사믹 글레이즈로 마무리하여 고기의 풍미를 한층 끌어올렸습니다.')]\", name='search_menu', tool_call_id='call_Fwu7Bz2ElHXfdhEwUnG139Hr'), ToolMessage(content=\"[Document(metadata={'menu_name': '그랜지 2016', 'menu_number': 10, 'source': './data/restaurant_wine.txt'}, page_content='10. 그랜지 2016\\\\n    • 가격: ₩950,000\\\\n    • 주요 품종: 시라\\\\n    • 설명: 호주의 대표적인 아이콘 와인입니다. 블랙베리, 자두, 블랙 올리브의 강렬한 과실향과 함께 유칼립투스, 초콜릿, 가죽의 복잡한 향이 어우러집니다. 풀바디이며 강렬한 타닌과 산도가 특징적입니다. 놀라운 집중도와 깊이, 긴 여운을 자랑하며, 수십 년의 숙성 잠재력을 가집니다.'), Document(metadata={'menu_name': '오퍼스 원 2017', 'menu_number': 8, 'source': './data/restaurant_wine.txt'}, page_content='8. 오퍼스 원 2017\\\\n   • 가격: ₩650,000\\\\n   • 주요 품종: 카베르네 소비뇽, 카베르네 프랑, 메를로, 쁘띠 베르도\\\\n   • 설명: 캘리포니아 나파 밸리의 아이콘 와인입니다. 블랙베리, 카시스, 자두의 농축된 과실향과 함께 초콜릿, 에스프레소, 바닐라의 복잡한 향이 어우러집니다. 풀바디이면서도 우아한 구조를 가지며, 실키한 타닌과 긴 여운이 인상적입니다. 20-30년 이상의 숙성 잠재력을 가집니다.')]\", name='search_wine', tool_call_id='call_wQlFDw9fU4Fki0mqDghQk5L7')]\n",
      "----------------------------------------------------------------------------------------------------\n",
      "### 시그니처 스테이크\n",
      "\n",
      "- **가격**: ₩35,000\n",
      "- **특징**: \n",
      "  - 주재료: 소고기 안심\n",
      "  - 조리 방식: 그릴에 구워내며, 질 좋은 고기를 사용하여 풍부한 육즙과 깊은 맛을 자랑합니다. \n",
      "  - 사이드: 스테이크는 신선한 채소와 함께 제공되며, 자극적이지 않은 소스와 잘 어울립니다.\n",
      "\n",
      "### 스테이크와 어울리는 와인 추천\n",
      "\n",
      "1. **그로지 2016**\n",
      "   - **가격**: ₩950,000\n",
      "   - **특징**: \n",
      "     - 이 와인은 호주산으로, 복합적인 향과 풍부한 바디감을 가지고 있습니다. \n",
      "     - 블랙베리, 자두, 그리고 은은한 스파이스의 향이 스테이크와 훌륭한 조화를 이룹니다.\n",
      "\n",
      "2. **오르차스 원 2017**\n",
      "   - **가격**: ₩650,000\n",
      "   - **특징**: \n",
      "     - 이탈리아산 와인으로, 과일의 신선함과 부드러운 타닌이 특징입니다. \n",
      "     - 스테이크의 풍미를 강조해주는 와인으로, 부드럽고 긴 여운을 남기는 맛을 자랑합니다.\n",
      "\n",
      "이 와인들은 스테이크의 풍미를 한층 더 끌어올려줄 것입니다. 즐거운 식사 되세요!\n"
     ]
    }
   ],
   "source": [
    "from datetime import datetime\n",
    "from langchain_core.prompts import ChatPromptTemplate\n",
    "from langchain_core.runnables import RunnableConfig, chain\n",
    "\n",
    "# 오늘 날짜 설정\n",
    "today = datetime.today().strftime(\"%Y-%m-%d\")\n",
    "\n",
    "# 프롬프트 템플릿 \n",
    "prompt = ChatPromptTemplate([\n",
    "    (\"system\", f\"You are a helpful AI assistant. Today's date is {today}.\"),\n",
    "    (\"human\", \"{user_input}\"),\n",
    "    (\"placeholder\", \"{messages}\"),\n",
    "])\n",
    "\n",
    "# ChatOpenAI 모델 초기화 \n",
    "llm = ChatOpenAI(model=\"gpt-4o-mini\")\n",
    "\n",
    "# 3개의 검색 도구를 LLM에 바인딩\n",
    "llm_with_tools = llm.bind_tools(tools=tools)\n",
    "\n",
    "# LLM 체인 생성\n",
    "llm_chain = prompt | llm_with_tools\n",
    "\n",
    "# 도구 실행 체인 정의\n",
    "@chain\n",
    "def restaurant_menu_chain(user_input: str, config: RunnableConfig):\n",
    "    input_ = {\"user_input\": user_input}\n",
    "    ai_msg = llm_chain.invoke(input_, config=config)\n",
    "\n",
    "    tool_msgs = []\n",
    "    for tool_call in ai_msg.tool_calls:\n",
    "        print(f\"{tool_call['name']}: \\n{tool_call}\")\n",
    "        print(\"-\"*100)\n",
    "\n",
    "        if tool_call[\"name\"] == \"search_web\":\n",
    "            tool_message = search_web.invoke(tool_call, config=config)\n",
    "            tool_msgs.append(tool_message)       \n",
    "\n",
    "        elif tool_call[\"name\"] == \"search_wine\":\n",
    "            tool_message = search_wine.invoke(tool_call, config=config)\n",
    "            tool_msgs.append(tool_message)\n",
    "\n",
    "        elif tool_call[\"name\"] == \"search_menu\":\n",
    "            tool_message = search_menu.invoke(tool_call, config=config)\n",
    "            tool_msgs.append(tool_message)            \n",
    "\n",
    "    print(\"tool_msgs: \\n\", tool_msgs)\n",
    "    print(\"-\"*100)\n",
    "    return llm_chain.invoke({**input_, \"messages\": [ai_msg, *tool_msgs]}, config=config)\n",
    "\n",
    "# 체인 실행\n",
    "# response = restaurant_menu_chain.invoke(\"시그니처 스테이크의 가격과 특징은 무엇인가요? 그리고 스테이크와 어울리는 와인 추천도 해주세요.\")\n",
    "response = restaurant_menu_chain.invoke(\"전세계에서 가장 비싼 스테이크에 대해 알려 주세요.\")\n",
    "\n",
    "# 응답 출력 \n",
    "print(response.content)"
   ]
  },
  {
   "cell_type": "code",
   "execution_count": null,
   "id": "6a848b9f",
   "metadata": {},
   "outputs": [],
   "source": []
  }
 ],
 "metadata": {
  "kernelspec": {
   "display_name": "langgraph-works-VZ1_LVEb-py3.11",
   "language": "python",
   "name": "python3"
  },
  "language_info": {
   "codemirror_mode": {
    "name": "ipython",
    "version": 3
   },
   "file_extension": ".py",
   "mimetype": "text/x-python",
   "name": "python",
   "nbconvert_exporter": "python",
   "pygments_lexer": "ipython3",
   "version": "3.11.9"
  }
 },
 "nbformat": 4,
 "nbformat_minor": 5
}
